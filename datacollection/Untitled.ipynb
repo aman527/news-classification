{
 "cells": [
  {
   "cell_type": "code",
   "execution_count": 9,
   "metadata": {},
   "outputs": [],
   "source": [
    "import requests\n",
    "from bs4 import BeautifulSoup"
   ]
  },
  {
   "cell_type": "code",
   "execution_count": 5,
   "metadata": {},
   "outputs": [],
   "source": [
    "r = requests.get('https://www.positive.news/wp-json/pn/v1/category-posts?page=3&author=&tag=&category=&search_term=')\n",
    "r.json()\n",
    "url = 'https://www.newser.com/category-grid/19/most-depressing-stories.html'"
   ]
  },
  {
   "cell_type": "code",
   "execution_count": 32,
   "metadata": {},
   "outputs": [],
   "source": [
    "new_url = 'https://www.newser.com/controlpage.aspx?control=storysquarecontainer&sectionid=117&gridrownum=390&numgridrows=400&ajaxcall=y&autorefreshcall=n&type=&linkstorytype=&scrollcount=3&categoryid=19&channelid=0&ShowGridLeaderboardAds=false&ShowGridMobileAds=false&RenderUserFormat=false&StoryView=G&ShowStats=false&StoryId=0&ShowSimpleListView=True&ShowRolloversOverride=False&IsHeadlineTest=true&URLSubfolder=&Website=D&showipadads=N&GridFirstAdLocation=0&GridSubsequentAdLocation=0&IsMobile=false'\n",
    "r = requests.get(new_url)"
   ]
  },
  {
   "cell_type": "code",
   "execution_count": 34,
   "metadata": {},
   "outputs": [
    {
     "name": "stdout",
     "output_type": "stream",
     "text": [
      "1200 [<a class=\"aGridSquareLink\" href=\"/story/268418/cops-high-school-football-player-killed-pregnant-teen.html\" onclick=\"\" onmouseover=\"HoverScreen('268418');\" target=\"\">\n",
      "<img alt=\"Cops: High School Football Player Killed Pregnant Teen\" src=\"//img1-azrcdn.newser.com/square-image/268418-20181211054850/cops-high-school-football-player-killed-pregnant-teen.jpeg\" style=\"width:240px;border-width:0px;\"/>\n",
      "<div class=\"hoverno\" id=\"screen268418\"></div>\n",
      "<div class=\"HoverBorderNo\" id=\"hover268418\" style=\"z-index:195;\"></div>\n",
      "</a>, <a class=\"aGridSquareLink\" href=\"/story/268411/crew-member-killed-on-set-of-50-cents-power-series.html\" onclick=\"\" onmouseover=\"HoverScreen('268411');\" target=\"\">\n",
      "<img alt=\"Crew Member Killed on Set of 50 Cent&amp;#39;s &amp;#39;Power&amp;#39; Series\" src=\"//img2-azrcdn.newser.com/square-image/268411-20181210182159/crew-member-killed-on-set-of-50-cents-power-series.jpeg\" style=\"width:240px;border-width:0px;\"/>\n",
      "<div class=\"hoverno\" id=\"screen268411\"></div>\n",
      "<div class=\"HoverBorderNo\" id=\"hover268411\" style=\"z-index:195;\"></div>\n",
      "</a>, <a class=\"aGridSquareLink\" href=\"/story/268399/she-survived-by-leaping-out-window-her-5-kids-died.html\" onclick=\"\" onmouseover=\"HoverScreen('268399');\" target=\"\">\n",
      "<img alt=\"She Survived by Leaping Out Window. Her 5 Kids Died\" src=\"//img2-azrcdn.newser.com/square-image/268399-20190416132527/she-survived-by-leaping-out-window-her-5-kids-died.jpeg\" style=\"width:240px;border-width:0px;\"/>\n",
      "<div class=\"hoverno\" id=\"screen268399\"></div>\n",
      "<div class=\"HoverBorderNo\" id=\"hover268399\" style=\"z-index:195;\"></div>\n",
      "</a>, <a class=\"aGridSquareLink\" href=\"/story/268391/your-daughter-was-supposed-to-be-safe-here.html\" onclick=\"\" onmouseover=\"HoverScreen('268391');\" target=\"\">\n",
      "<img alt=\"&amp;#39;Your Daughter Was Supposed to Be Safe Here&amp;#39;\" src=\"//img2-azrcdn.newser.com/square-image/268391-20190416132527/your-daughter-was-supposed-to-be-safe-here.jpeg\" style=\"width:240px;border-width:0px;\"/>\n",
      "<div class=\"hoverno\" id=\"screen268391\"></div>\n",
      "<div class=\"HoverBorderNo\" id=\"hover268391\" style=\"z-index:195;\"></div>\n",
      "</a>, <a class=\"aGridSquareLink\" href=\"/story/268348/mom-lost-everything-in-horrific-crash.html\" onclick=\"\" onmouseover=\"HoverScreen('268348');\" target=\"\">\n",
      "<img alt=\"Mom &amp;#39;Lost Everything&amp;#39; in Horrific Crash\" src=\"//img1-azrcdn.newser.com/square-image/268348-20190416132527/mom-lost-everything-in-horrific-crash.jpeg\" style=\"width:240px;border-width:0px;\"/>\n",
      "<div class=\"hoverno\" id=\"screen268348\"></div>\n",
      "<div class=\"HoverBorderNo\" id=\"hover268348\" style=\"z-index:195;\"></div>\n",
      "</a>, <a class=\"aGridSquareLink\" href=\"/story/268137/a-mother-has-been-searching-for-her-son-here-for-30-years.html\" onclick=\"\" onmouseover=\"HoverScreen('268137');\" target=\"\">\n",
      "<img alt=\"A Mother Has Been Searching for Her Son, Here, for 30 Years\" src=\"//img2-azrcdn.newser.com/square-image/268137-20181209084156/a-mother-has-been-searching-for-her-son-here-for-30-years.jpeg\" style=\"width:240px;border-width:0px;\"/>\n",
      "<div class=\"hoverno\" id=\"screen268137\"></div>\n",
      "<div class=\"HoverBorderNo\" id=\"hover268137\" style=\"z-index:195;\"></div>\n",
      "</a>, <a class=\"aGridSquareLink\" href=\"/story/268314/teen-helped-girl-hang-herself-now-the-sentence.html\" onclick=\"\" onmouseover=\"HoverScreen('268314');\" target=\"\">\n",
      "<img alt=\"Teen Helped Girl Hang Herself. Now, the Sentence\" src=\"//img1-azrcdn.newser.com/square-image/268314-20190416132527/teen-helped-girl-hang-herself-now-the-sentence.jpeg\" style=\"width:240px;border-width:0px;\"/>\n",
      "<div class=\"hoverno\" id=\"screen268314\"></div>\n",
      "<div class=\"HoverBorderNo\" id=\"hover268314\" style=\"z-index:195;\"></div>\n",
      "</a>, <a class=\"aGridSquareLink\" href=\"/story/268312/panic-then-a-stampede-6-dead-at-nightclub-concert.html\" onclick=\"\" onmouseover=\"HoverScreen('268312');\" target=\"\">\n",
      "<img alt=\"Panic, Then a Stampede: 6 Dead at Nightclub Concert\" src=\"//img1-azrcdn.newser.com/square-image/268312-20190416132527/panic-then-a-stampede-6-dead-at-nightclub-concert.jpeg\" style=\"width:240px;border-width:0px;\"/>\n",
      "<div class=\"hoverno\" id=\"screen268312\"></div>\n",
      "<div class=\"HoverBorderNo\" id=\"hover268312\" style=\"z-index:195;\"></div>\n",
      "</a>, <a class=\"aGridSquareLink\" href=\"/story/268278/2-former-mlb-players-killed-in-car-crash.html\" onclick=\"\" onmouseover=\"HoverScreen('268278');\" target=\"\">\n",
      "<img alt=\"2 Former MLB Players Killed in Car Crash\" src=\"//img1-azrcdn.newser.com/square-image/268278-20181207082159/2-former-mlb-players-killed-in-car-crash.jpeg\" style=\"width:240px;border-width:0px;\"/>\n",
      "<div class=\"hoverno\" id=\"screen268278\"></div>\n",
      "<div class=\"HoverBorderNo\" id=\"hover268278\" style=\"z-index:195;\"></div>\n",
      "</a>, <a class=\"aGridSquareLink\" href=\"/story/268255/punk-pioneer-dead-at-63.html\" onclick=\"\" onmouseover=\"HoverScreen('268255');\" target=\"\">\n",
      "<img alt=\"Punk Pioneer Dead at 63\" src=\"//img2-azrcdn.newser.com/square-image/268255-20190416132527/punk-pioneer-dead-at-63.jpeg\" style=\"width:240px;border-width:0px;\"/>\n",
      "<div class=\"hoverno\" id=\"screen268255\"></div>\n",
      "<div class=\"HoverBorderNo\" id=\"hover268255\" style=\"z-index:195;\"></div>\n",
      "</a>, <a class=\"aGridSquareLink\" href=\"/story/268224/residents-given-hazmat-suits-for-return-to-paradise.html\" onclick=\"\" onmouseover=\"HoverScreen('268224');\" target=\"\">\n",
      "<img alt=\"Residents Given Hazmat Suits for Return to Paradise\" src=\"//img1-azrcdn.newser.com/square-image/268224-20190416132527/residents-given-hazmat-suits-for-return-to-paradise.jpeg\" style=\"width:240px;border-width:0px;\"/>\n",
      "<div class=\"hoverno\" id=\"screen268224\"></div>\n",
      "<div class=\"HoverBorderNo\" id=\"hover268224\" style=\"z-index:195;\"></div>\n",
      "</a>, <a class=\"aGridSquareLink\" href=\"/story/268210/student-killed-when-truck-rear-ends-school-bus.html\" onclick=\"\" onmouseover=\"HoverScreen('268210');\" target=\"\">\n",
      "<img alt=\"Student Killed When Truck Rear-Ends School Bus\" src=\"//img1-azrcdn.newser.com/square-image/268210-20190416132527/student-killed-when-truck-rear-ends-school-bus.jpeg\" style=\"width:240px;border-width:0px;\"/>\n",
      "<div class=\"hoverno\" id=\"screen268210\"></div>\n",
      "<div class=\"HoverBorderNo\" id=\"hover268210\" style=\"z-index:195;\"></div>\n",
      "</a>, <a class=\"aGridSquareLink\" href=\"/story/268204/new-indignity-in-venezuela-theres-no-gas-for-cremation.html\" onclick=\"\" onmouseover=\"HoverScreen('268204');\" target=\"\">\n",
      "<img alt=\"New Indignity in Venezuela: There&amp;#39;s No Gas for Cremation\" src=\"//img1-azrcdn.newser.com/square-image/268204-20190416132527/new-indignity-in-venezuela-theres-no-gas-for-cremation.jpeg\" style=\"width:240px;border-width:0px;\"/>\n",
      "<div class=\"hoverno\" id=\"screen268204\"></div>\n",
      "<div class=\"HoverBorderNo\" id=\"hover268204\" style=\"z-index:195;\"></div>\n",
      "</a>, <a class=\"aGridSquareLink\" href=\"/story/268153/americas-next-top-model-star-dies-at-34.html\" onclick=\"\" onmouseover=\"HoverScreen('268153');\" target=\"\">\n",
      "<img alt=\"America&amp;#39;s Next Top Model Star Dies at 34\" src=\"//img2-azrcdn.newser.com/square-image/268153-20190416132527/americas-next-top-model-star-dies-at-34.jpeg\" style=\"width:240px;border-width:0px;\"/>\n",
      "<div class=\"hoverno\" id=\"screen268153\"></div>\n",
      "<div class=\"HoverBorderNo\" id=\"hover268153\" style=\"z-index:195;\"></div>\n",
      "</a>, <a class=\"aGridSquareLink\" href=\"/story/268111/sarah-hyland-tweet-blasts-cousins-murderer.html\" onclick=\"\" onmouseover=\"HoverScreen('268111');\" target=\"\">\n",
      "<img alt=\"Sarah Hyland Tweet-Blasts Cousin&amp;#39;s &amp;#39;Murderer&amp;#39;\" src=\"//img2-azrcdn.newser.com/square-image/268111-20190416132527/sarah-hyland-tweet-blasts-cousins-murderer.jpeg\" style=\"width:240px;border-width:0px;\"/>\n",
      "<div class=\"hoverno\" id=\"screen268111\"></div>\n",
      "<div class=\"HoverBorderNo\" id=\"hover268111\" style=\"z-index:195;\"></div>\n",
      "</a>, <a class=\"aGridSquareLink\" href=\"/story/268086/she-rolled-down-window-to-help-panhandler-ended-up-dead.html\" onclick=\"\" onmouseover=\"HoverScreen('268086');\" target=\"\">\n",
      "<img alt=\"She Rolled Down Window to Help Panhandler, Ended Up Dead\" src=\"//img1-azrcdn.newser.com/square-image/268086-20190416132527/she-rolled-down-window-to-help-panhandler-ended-up-dead.jpeg\" style=\"width:240px;border-width:0px;\"/>\n",
      "<div class=\"hoverno\" id=\"screen268086\"></div>\n",
      "<div class=\"HoverBorderNo\" id=\"hover268086\" style=\"z-index:195;\"></div>\n",
      "</a>, <a class=\"aGridSquareLink\" href=\"/story/268049/famous-yellowstone-wolf-killed-same-way-as-mother.html\" onclick=\"\" onmouseover=\"HoverScreen('268049');\" target=\"\">\n",
      "<img alt=\"Famous Yellowstone Wolf Killed Same Way as Mother\" src=\"//img2-azrcdn.newser.com/square-image/268049-20190416132527/famous-yellowstone-wolf-killed-same-way-as-mother.jpeg\" style=\"width:240px;border-width:0px;\"/>\n",
      "<div class=\"hoverno\" id=\"screen268049\"></div>\n",
      "<div class=\"HoverBorderNo\" id=\"hover268049\" style=\"z-index:195;\"></div>\n",
      "</a>, <a class=\"aGridSquareLink\" href=\"/story/267929/the-complicated-story-of-a-cop-fired-for-not-shooting-a-man.html\" onclick=\"\" onmouseover=\"HoverScreen('267929');\" target=\"\">\n",
      "<img alt=\"The Complicated Story of a Cop Fired for Not Shooting a Man\" src=\"//img2-azrcdn.newser.com/square-image/267929-20190416132527/the-complicated-story-of-a-cop-fired-for-not-shooting-a-man.jpeg\" style=\"width:240px;border-width:0px;\"/>\n",
      "<div class=\"hoverno\" id=\"screen267929\"></div>\n",
      "<div class=\"HoverBorderNo\" id=\"hover267929\" style=\"z-index:195;\"></div>\n",
      "</a>, <a class=\"aGridSquareLink\" href=\"/story/268017/top-navy-commander-in-middle-east-found-dead.html\" onclick=\"\" onmouseover=\"HoverScreen('268017');\" target=\"\">\n",
      "<img alt=\"Top Navy Commander in Middle East Found Dead\" src=\"//img2-azrcdn.newser.com/square-image/268017-20190416132527/top-navy-commander-in-middle-east-found-dead.jpeg\" style=\"width:240px;border-width:0px;\"/>\n",
      "<div class=\"hoverno\" id=\"screen268017\"></div>\n",
      "<div class=\"HoverBorderNo\" id=\"hover268017\" style=\"z-index:195;\"></div>\n",
      "</a>, <a class=\"aGridSquareLink\" href=\"/story/267993/george-hw-bush-dead-at-94.html\" onclick=\"\" onmouseover=\"HoverScreen('267993');\" target=\"\">\n",
      "<img alt=\"George HW Bush Dead at 94\" src=\"//img2-azrcdn.newser.com/square-image/267993-20190416132527/george-hw-bush-dead-at-94.jpeg\" style=\"width:240px;border-width:0px;\"/>\n",
      "<div class=\"hoverno\" id=\"screen267993\"></div>\n",
      "<div class=\"HoverBorderNo\" id=\"hover267993\" style=\"z-index:195;\"></div>\n",
      "</a>]\n"
     ]
    }
   ],
   "source": [
    "soup = BeautifulSoup(r.content, 'lxml')\n",
    "a = soup.find_all('a', class_='aGridSquareLink')\n",
    "print(len(a), a[: 20])"
   ]
  },
  {
   "cell_type": "code",
   "execution_count": null,
   "metadata": {},
   "outputs": [],
   "source": []
  }
 ],
 "metadata": {
  "kernelspec": {
   "display_name": "Python 3",
   "language": "python",
   "name": "python3"
  },
  "language_info": {
   "codemirror_mode": {
    "name": "ipython",
    "version": 3
   },
   "file_extension": ".py",
   "mimetype": "text/x-python",
   "name": "python",
   "nbconvert_exporter": "python",
   "pygments_lexer": "ipython3",
   "version": "3.7.4"
  }
 },
 "nbformat": 4,
 "nbformat_minor": 4
}