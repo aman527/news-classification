{
 "cells": [
  {
   "cell_type": "markdown",
   "metadata": {},
   "source": [
    "# Data Collection"
   ]
  },
  {
   "cell_type": "markdown",
   "metadata": {},
   "source": [
    "Let's scrape data from the Good News Network website for, well, good news, and from huffpost for both good and bad news. This should give us a reasonably sized dataset of labeled examples!"
   ]
  },
  {
   "cell_type": "code",
   "execution_count": 1,
   "metadata": {},
   "outputs": [],
   "source": [
    "import pandas as pd\n",
    "\n",
    "# goodnews network and huffpost are two helper modules I've created to make scraping the sites much easier\n",
    "import goodnewsnetwork\n",
    "import huffpost"
   ]
  },
  {
   "cell_type": "markdown",
   "metadata": {},
   "source": [
    "Setting max results to 10,000 for both good and bad news from HuffPost should hopefully catch all the articles. It seems unlikely that huffpost has written and categorized that many articles for both good and bad news, especially considering that they were launched in 2005. If they have, power to them, but I'm not sure we'll even *need* that much data!"
   ]
  },
  {
   "cell_type": "code",
   "execution_count": null,
   "metadata": {},
   "outputs": [
    {
     "name": "stdout",
     "output_type": "stream",
     "text": [
      "Scraping Good News Network page 0/1019\n",
      "Scraping Good News Network page 50/1019\n",
      "Scraping Good News Network page 100/1019\n",
      "Scraping Good News Network page 150/1019\n",
      "Scraping Good News Network page 200/1019\n",
      "Scraping Good News Network page 250/1019\n",
      "Scraping Good News Network page 300/1019\n",
      "Scraping Good News Network page 350/1019\n",
      "Scraping Good News Network page 400/1019\n",
      "Scraping Good News Network page 450/1019\n",
      "Could not find description for article at URL: https://www.goodnewsnetwork.org/indiana-student-overcomes-stutter-deliver-inspiring-graduation-speech/\n",
      "Scraping Good News Network page 500/1019\n"
     ]
    }
   ],
   "source": [
    "huff_good = huffpost.scrape_articles(category = 'good', max_results = 10000)\n",
    "huff_bad = huffpost.scrape_articles(category = 'bad', max_results = 10000)\n",
    "\n",
    "gnn_articles = goodnewsnetwork.scrape_pages()\n",
    "\n",
    "huff_articles = huff_good + huff_bad + gnn_articles\n",
    "\n",
    "articles_dataframe = pd.DataFrame(huff_articles)"
   ]
  },
  {
   "cell_type": "code",
   "execution_count": null,
   "metadata": {},
   "outputs": [],
   "source": []
  }
 ],
 "metadata": {
  "kernelspec": {
   "display_name": "Python 3",
   "language": "python",
   "name": "python3"
  },
  "language_info": {
   "codemirror_mode": {
    "name": "ipython",
    "version": 3
   },
   "file_extension": ".py",
   "mimetype": "text/x-python",
   "name": "python",
   "nbconvert_exporter": "python",
   "pygments_lexer": "ipython3",
   "version": "3.7.4"
  }
 },
 "nbformat": 4,
 "nbformat_minor": 4
}
