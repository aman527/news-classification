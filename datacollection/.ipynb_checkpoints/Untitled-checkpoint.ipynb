{
 "cells": [
  {
   "cell_type": "code",
   "execution_count": 9,
   "metadata": {},
   "outputs": [],
   "source": [
    "import requests\n",
    "from bs4 import BeautifulSoup"
   ]
  },
  {
   "cell_type": "code",
   "execution_count": 5,
   "metadata": {},
   "outputs": [],
   "source": [
    "r = requests.get('https://www.positive.news/wp-json/pn/v1/category-posts?page=3&author=&tag=&category=&search_term=')\n",
    "r.json()\n",
    "url = 'https://www.newser.com/category-grid/19/most-depressing-stories.html'"
   ]
  },
  {
   "cell_type": "code",
   "execution_count": 27,
   "metadata": {},
   "outputs": [],
   "source": [
    "new_url = 'https://www.newser.com/controlpage.aspx?control=storysquarecontainer&sectionid=117&gridrownum=400&numgridrows=400&ajaxcall=y&autorefreshcall=n&type=&linkstorytype=&scrollcount=3&categoryid=19&channelid=0&ShowGridLeaderboardAds=false&ShowGridMobileAds=false&RenderUserFormat=false&StoryView=G&ShowStats=false&StoryId=0&ShowSimpleListView=True&ShowRolloversOverride=False&IsHeadlineTest=true&URLSubfolder=&Website=D&showipadads=N&GridFirstAdLocation=0&GridSubsequentAdLocation=0&IsMobile=false'\n",
    "r = requests.get(new_url)"
   ]
  },
  {
   "cell_type": "code",
   "execution_count": 28,
   "metadata": {},
   "outputs": [
    {
     "name": "stdout",
     "output_type": "stream",
     "text": [
      "1200 [<a class=\"aGridSquareLink\" href=\"/story/290479/united-airlines-to-staff-you-may-want-to-leave-voluntarily.html\" onclick=\"\" onmouseover=\"HoverScreen('290479');\" target=\"\">\n",
      "<img alt=\"United Airlines to Staff: You May Want to Leave Voluntarily\" src=\"//img2-azrcdn.newser.com/square-image/290479-20200505070709/united-airlines-to-staff-you-may-want-to-leave-voluntarily.jpeg\" style=\"width:240px;border-width:0px;\"/>\n",
      "<div class=\"hoverno\" id=\"screen290479\"></div>\n",
      "<div class=\"HoverBorderNo\" id=\"hover290479\" style=\"z-index:195;\"></div>\n",
      "</a>, <a class=\"aGridSquareLink\" href=\"/story/290460/giant-among-men-is-dead-at-69.html\" onclick=\"\" onmouseover=\"HoverScreen('290460');\" target=\"\">\n",
      "<img alt=\"&amp;#39;Giant Among Men&amp;#39; Is Dead at 69\" src=\"//img1-azrcdn.newser.com/square-image/290460-20200504194107/giant-among-men-is-dead-at-69.jpeg\" style=\"width:240px;border-width:0px;\"/>\n",
      "<div class=\"hoverno\" id=\"screen290460\"></div>\n",
      "<div class=\"HoverBorderNo\" id=\"hover290460\" style=\"z-index:195;\"></div>\n",
      "</a>, <a class=\"aGridSquareLink\" href=\"/story/290462/at-funeral-for-4-children-family-gets-grim-news.html\" onclick=\"\" onmouseover=\"HoverScreen('290462');\" target=\"\">\n",
      "<img alt=\"At Funeral for 4 Children, Family Gets Grim News\" src=\"//img1-azrcdn.newser.com/square-image/290462-20200504180258/at-funeral-for-4-children-family-gets-grim-news.jpeg\" style=\"width:240px;border-width:0px;\"/>\n",
      "<div class=\"hoverno\" id=\"screen290462\"></div>\n",
      "<div class=\"HoverBorderNo\" id=\"hover290462\" style=\"z-index:195;\"></div>\n",
      "</a>]\n"
     ]
    }
   ],
   "source": [
    "soup = BeautifulSoup(r.content, 'lxml')\n",
    "a = soup.find_all('a', class_='aGridSquareLink')\n",
    "print(len(a), a[:3])"
   ]
  },
  {
   "cell_type": "code",
   "execution_count": null,
   "metadata": {},
   "outputs": [],
   "source": []
  }
 ],
 "metadata": {
  "kernelspec": {
   "display_name": "Python 3",
   "language": "python",
   "name": "python3"
  },
  "language_info": {
   "codemirror_mode": {
    "name": "ipython",
    "version": 3
   },
   "file_extension": ".py",
   "mimetype": "text/x-python",
   "name": "python",
   "nbconvert_exporter": "python",
   "pygments_lexer": "ipython3",
   "version": "3.7.4"
  }
 },
 "nbformat": 4,
 "nbformat_minor": 4
}
