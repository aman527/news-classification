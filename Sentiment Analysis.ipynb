{
 "cells": [
  {
   "cell_type": "markdown",
   "metadata": {},
   "source": [
    "# Sentiment Analysis on News Articles"
   ]
  },
  {
   "cell_type": "markdown",
   "metadata": {},
   "source": [
    "Now that the data has been cleaned, we can proceed with trying to train a classifier. The general plan is to use word embeddings from a Word2Vec model to represent the text for each article, then use a many-to-one recurrent neural network to predict the sentiment of these articles."
   ]
  },
  {
   "cell_type": "code",
   "execution_count": 13,
   "metadata": {},
   "outputs": [],
   "source": [
    "import time\n",
    "\n",
    "import pandas as pd\n",
    "\n",
    "import gensim.models\n",
    "\n",
    "import torch\n",
    "import torch.nn as nn\n",
    "import torch.nn.functional as F\n",
    "import torch.optim as optim"
   ]
  },
  {
   "cell_type": "markdown",
   "metadata": {},
   "source": [
    "## Processing the Headlines and Descriptions\n",
    "\n",
    "Right now, the headlines and descriptions are two separate sequences of words that we can't directly analyze. To make things easier, let's concatenate the headlines and descriptions into one block of text so we can treat them as one sequence for the RNN to analyze."
   ]
  },
  {
   "cell_type": "code",
   "execution_count": 2,
   "metadata": {},
   "outputs": [],
   "source": [
    "articles = pd.read_csv('./data/cleaned_articles.csv')"
   ]
  },
  {
   "cell_type": "code",
   "execution_count": 3,
   "metadata": {},
   "outputs": [],
   "source": [
    "def add_combined_column(articles):\n",
    "    '''For each article in the dataframe, concatenate the headline and description into a combined entry,\n",
    "    ignoring NaN entries.'''\n",
    "    for i, row in articles.iterrows():\n",
    "        headline, description = row['headline'], row['description']\n",
    "        combined = \"\"\n",
    "        \n",
    "        if type(headline) == str:\n",
    "            combined += headline\n",
    "        elif type(description) == str:\n",
    "            combined += description\n",
    "            \n",
    "        articles.loc[i, 'combined'] = combined"
   ]
  },
  {
   "cell_type": "code",
   "execution_count": 4,
   "metadata": {},
   "outputs": [
    {
     "data": {
      "text/html": [
       "<div>\n",
       "<style scoped>\n",
       "    .dataframe tbody tr th:only-of-type {\n",
       "        vertical-align: middle;\n",
       "    }\n",
       "\n",
       "    .dataframe tbody tr th {\n",
       "        vertical-align: top;\n",
       "    }\n",
       "\n",
       "    .dataframe thead th {\n",
       "        text-align: right;\n",
       "    }\n",
       "</style>\n",
       "<table border=\"1\" class=\"dataframe\">\n",
       "  <thead>\n",
       "    <tr style=\"text-align: right;\">\n",
       "      <th></th>\n",
       "      <th>headline</th>\n",
       "      <th>url</th>\n",
       "      <th>description</th>\n",
       "      <th>category</th>\n",
       "      <th>source</th>\n",
       "      <th>combined</th>\n",
       "    </tr>\n",
       "  </thead>\n",
       "  <tbody>\n",
       "    <tr>\n",
       "      <th>0</th>\n",
       "      <td>A Sad Bulldog, A Happy Prince And More Things ...</td>\n",
       "      <td>https://www.huffpost.com/entry/coronavirus-dis...</td>\n",
       "      <td>A sad bulldog and a happy, paint-covered princ...</td>\n",
       "      <td>good</td>\n",
       "      <td>huffpost</td>\n",
       "      <td>A Sad Bulldog, A Happy Prince And More Things ...</td>\n",
       "    </tr>\n",
       "    <tr>\n",
       "      <th>1</th>\n",
       "      <td>John Krasinski Shocks 9-Year-Old 'Hamilton' Fa...</td>\n",
       "      <td>https://www.huffpost.com/entry/john-krasinski-...</td>\n",
       "      <td>\"The Office\" star struck gold again in his You...</td>\n",
       "      <td>good</td>\n",
       "      <td>huffpost</td>\n",
       "      <td>John Krasinski Shocks 9-Year-Old 'Hamilton' Fa...</td>\n",
       "    </tr>\n",
       "    <tr>\n",
       "      <th>2</th>\n",
       "      <td>I Was Struggling As A Single Mom. Then A Stran...</td>\n",
       "      <td>https://www.huffpost.com/entry/struggling-sing...</td>\n",
       "      <td>\"With this gift, I was finally able to get out...</td>\n",
       "      <td>good</td>\n",
       "      <td>huffpost</td>\n",
       "      <td>I Was Struggling As A Single Mom. Then A Stran...</td>\n",
       "    </tr>\n",
       "    <tr>\n",
       "      <th>3</th>\n",
       "      <td>Pink's Advice To Fans: 'Change The F**king Wor...</td>\n",
       "      <td>https://www.huffpost.com/entry/pink-peoples-ch...</td>\n",
       "      <td>“I care about decency and humanity and kindnes...</td>\n",
       "      <td>good</td>\n",
       "      <td>huffpost</td>\n",
       "      <td>Pink's Advice To Fans: 'Change The F**king Wor...</td>\n",
       "    </tr>\n",
       "    <tr>\n",
       "      <th>4</th>\n",
       "      <td>10 Books For Parents Who Want To Raise Kind Kids</td>\n",
       "      <td>https://www.huffpost.com/entry/parenting-books...</td>\n",
       "      <td>These parenting books emphasize emotional inte...</td>\n",
       "      <td>good</td>\n",
       "      <td>huffpost</td>\n",
       "      <td>10 Books For Parents Who Want To Raise Kind Kids</td>\n",
       "    </tr>\n",
       "  </tbody>\n",
       "</table>\n",
       "</div>"
      ],
      "text/plain": [
       "                                            headline  \\\n",
       "0  A Sad Bulldog, A Happy Prince And More Things ...   \n",
       "1  John Krasinski Shocks 9-Year-Old 'Hamilton' Fa...   \n",
       "2  I Was Struggling As A Single Mom. Then A Stran...   \n",
       "3  Pink's Advice To Fans: 'Change The F**king Wor...   \n",
       "4   10 Books For Parents Who Want To Raise Kind Kids   \n",
       "\n",
       "                                                 url  \\\n",
       "0  https://www.huffpost.com/entry/coronavirus-dis...   \n",
       "1  https://www.huffpost.com/entry/john-krasinski-...   \n",
       "2  https://www.huffpost.com/entry/struggling-sing...   \n",
       "3  https://www.huffpost.com/entry/pink-peoples-ch...   \n",
       "4  https://www.huffpost.com/entry/parenting-books...   \n",
       "\n",
       "                                         description category    source  \\\n",
       "0  A sad bulldog and a happy, paint-covered princ...     good  huffpost   \n",
       "1  \"The Office\" star struck gold again in his You...     good  huffpost   \n",
       "2  \"With this gift, I was finally able to get out...     good  huffpost   \n",
       "3  “I care about decency and humanity and kindnes...     good  huffpost   \n",
       "4  These parenting books emphasize emotional inte...     good  huffpost   \n",
       "\n",
       "                                            combined  \n",
       "0  A Sad Bulldog, A Happy Prince And More Things ...  \n",
       "1  John Krasinski Shocks 9-Year-Old 'Hamilton' Fa...  \n",
       "2  I Was Struggling As A Single Mom. Then A Stran...  \n",
       "3  Pink's Advice To Fans: 'Change The F**king Wor...  \n",
       "4   10 Books For Parents Who Want To Raise Kind Kids  "
      ]
     },
     "execution_count": 4,
     "metadata": {},
     "output_type": "execute_result"
    }
   ],
   "source": [
    "add_combined_column(articles)\n",
    "articles.head()"
   ]
  },
  {
   "cell_type": "markdown",
   "metadata": {},
   "source": [
    "Nice! Before we can represent this new 'combined' entry as a matrix, we have to remove punctuation / special characters and numbers, since they don't convey much meaningful information about sentiment and could bog down the model."
   ]
  },
  {
   "cell_type": "code",
   "execution_count": 5,
   "metadata": {},
   "outputs": [],
   "source": [
    "import re\n",
    "\n",
    "def process_text(text):\n",
    "    text = text.lower()\n",
    "    # remove any non alphanumeric characters,\n",
    "    # escaping ' and * because of contractions and swear censorship (e.g. f**k)\n",
    "    text = re.sub(r\"[^a-zA-Z'\\*]\", \" \", text)\n",
    "    # tokenize the combined text by splitting on spaces and removing whitespace\n",
    "    text = text.split()\n",
    "    word_list = []\n",
    "    for i, word in enumerate(text):\n",
    "        # remove any censored swears which would likely just waste space in the w2v model\n",
    "        if '*' in word:\n",
    "            continue\n",
    "        # remove any artifact of the regex checking that leaves a single apostrophe as a 'word'\n",
    "        elif word == \"'\":\n",
    "            continue\n",
    "        # remove single-quoted text by checking for first character apostrophes then last character apostrophes\n",
    "        word = re.sub(r\"^'\", \"\", word)\n",
    "        word = re.sub(r\"'$\", \"\", word)\n",
    "        \n",
    "        # removing 's possessives\n",
    "        word = re.sub(r\"'s$\", \"\", word)\n",
    "        word_list.append(word)\n",
    "        \n",
    "    return word_list"
   ]
  },
  {
   "cell_type": "code",
   "execution_count": 6,
   "metadata": {},
   "outputs": [
    {
     "data": {
      "text/html": [
       "<div>\n",
       "<style scoped>\n",
       "    .dataframe tbody tr th:only-of-type {\n",
       "        vertical-align: middle;\n",
       "    }\n",
       "\n",
       "    .dataframe tbody tr th {\n",
       "        vertical-align: top;\n",
       "    }\n",
       "\n",
       "    .dataframe thead th {\n",
       "        text-align: right;\n",
       "    }\n",
       "</style>\n",
       "<table border=\"1\" class=\"dataframe\">\n",
       "  <thead>\n",
       "    <tr style=\"text-align: right;\">\n",
       "      <th></th>\n",
       "      <th>headline</th>\n",
       "      <th>url</th>\n",
       "      <th>description</th>\n",
       "      <th>category</th>\n",
       "      <th>source</th>\n",
       "      <th>combined</th>\n",
       "      <th>processed</th>\n",
       "    </tr>\n",
       "  </thead>\n",
       "  <tbody>\n",
       "    <tr>\n",
       "      <th>0</th>\n",
       "      <td>A Sad Bulldog, A Happy Prince And More Things ...</td>\n",
       "      <td>https://www.huffpost.com/entry/coronavirus-dis...</td>\n",
       "      <td>A sad bulldog and a happy, paint-covered princ...</td>\n",
       "      <td>good</td>\n",
       "      <td>huffpost</td>\n",
       "      <td>A Sad Bulldog, A Happy Prince And More Things ...</td>\n",
       "      <td>[a, sad, bulldog, a, happy, prince, and, more,...</td>\n",
       "    </tr>\n",
       "    <tr>\n",
       "      <th>1</th>\n",
       "      <td>John Krasinski Shocks 9-Year-Old 'Hamilton' Fa...</td>\n",
       "      <td>https://www.huffpost.com/entry/john-krasinski-...</td>\n",
       "      <td>\"The Office\" star struck gold again in his You...</td>\n",
       "      <td>good</td>\n",
       "      <td>huffpost</td>\n",
       "      <td>John Krasinski Shocks 9-Year-Old 'Hamilton' Fa...</td>\n",
       "      <td>[john, krasinski, shocks, year, old, hamilton,...</td>\n",
       "    </tr>\n",
       "    <tr>\n",
       "      <th>2</th>\n",
       "      <td>I Was Struggling As A Single Mom. Then A Stran...</td>\n",
       "      <td>https://www.huffpost.com/entry/struggling-sing...</td>\n",
       "      <td>\"With this gift, I was finally able to get out...</td>\n",
       "      <td>good</td>\n",
       "      <td>huffpost</td>\n",
       "      <td>I Was Struggling As A Single Mom. Then A Stran...</td>\n",
       "      <td>[i, was, struggling, as, a, single, mom, then,...</td>\n",
       "    </tr>\n",
       "    <tr>\n",
       "      <th>3</th>\n",
       "      <td>Pink's Advice To Fans: 'Change The F**king Wor...</td>\n",
       "      <td>https://www.huffpost.com/entry/pink-peoples-ch...</td>\n",
       "      <td>“I care about decency and humanity and kindnes...</td>\n",
       "      <td>good</td>\n",
       "      <td>huffpost</td>\n",
       "      <td>Pink's Advice To Fans: 'Change The F**king Wor...</td>\n",
       "      <td>[pink, advice, to, fans, change, the, world]</td>\n",
       "    </tr>\n",
       "    <tr>\n",
       "      <th>4</th>\n",
       "      <td>10 Books For Parents Who Want To Raise Kind Kids</td>\n",
       "      <td>https://www.huffpost.com/entry/parenting-books...</td>\n",
       "      <td>These parenting books emphasize emotional inte...</td>\n",
       "      <td>good</td>\n",
       "      <td>huffpost</td>\n",
       "      <td>10 Books For Parents Who Want To Raise Kind Kids</td>\n",
       "      <td>[books, for, parents, who, want, to, raise, ki...</td>\n",
       "    </tr>\n",
       "  </tbody>\n",
       "</table>\n",
       "</div>"
      ],
      "text/plain": [
       "                                            headline  \\\n",
       "0  A Sad Bulldog, A Happy Prince And More Things ...   \n",
       "1  John Krasinski Shocks 9-Year-Old 'Hamilton' Fa...   \n",
       "2  I Was Struggling As A Single Mom. Then A Stran...   \n",
       "3  Pink's Advice To Fans: 'Change The F**king Wor...   \n",
       "4   10 Books For Parents Who Want To Raise Kind Kids   \n",
       "\n",
       "                                                 url  \\\n",
       "0  https://www.huffpost.com/entry/coronavirus-dis...   \n",
       "1  https://www.huffpost.com/entry/john-krasinski-...   \n",
       "2  https://www.huffpost.com/entry/struggling-sing...   \n",
       "3  https://www.huffpost.com/entry/pink-peoples-ch...   \n",
       "4  https://www.huffpost.com/entry/parenting-books...   \n",
       "\n",
       "                                         description category    source  \\\n",
       "0  A sad bulldog and a happy, paint-covered princ...     good  huffpost   \n",
       "1  \"The Office\" star struck gold again in his You...     good  huffpost   \n",
       "2  \"With this gift, I was finally able to get out...     good  huffpost   \n",
       "3  “I care about decency and humanity and kindnes...     good  huffpost   \n",
       "4  These parenting books emphasize emotional inte...     good  huffpost   \n",
       "\n",
       "                                            combined  \\\n",
       "0  A Sad Bulldog, A Happy Prince And More Things ...   \n",
       "1  John Krasinski Shocks 9-Year-Old 'Hamilton' Fa...   \n",
       "2  I Was Struggling As A Single Mom. Then A Stran...   \n",
       "3  Pink's Advice To Fans: 'Change The F**king Wor...   \n",
       "4   10 Books For Parents Who Want To Raise Kind Kids   \n",
       "\n",
       "                                           processed  \n",
       "0  [a, sad, bulldog, a, happy, prince, and, more,...  \n",
       "1  [john, krasinski, shocks, year, old, hamilton,...  \n",
       "2  [i, was, struggling, as, a, single, mom, then,...  \n",
       "3       [pink, advice, to, fans, change, the, world]  \n",
       "4  [books, for, parents, who, want, to, raise, ki...  "
      ]
     },
     "execution_count": 6,
     "metadata": {},
     "output_type": "execute_result"
    }
   ],
   "source": [
    "articles['processed'] = articles['combined'].apply(lambda text: process_text(text))\n",
    "articles.head()"
   ]
  },
  {
   "cell_type": "markdown",
   "metadata": {},
   "source": [
    "## Creating and Training the Word2Vec Model"
   ]
  },
  {
   "cell_type": "markdown",
   "metadata": {},
   "source": [
    "Let's initialize a Word2Vec Model with 300-dimensional word vectors and a subsampling parameter of 1e-5, since [Mikolov et al](https://arxiv.org/pdf/1310.4546.pdf) achieved good results with these settings."
   ]
  },
  {
   "cell_type": "code",
   "execution_count": 16,
   "metadata": {},
   "outputs": [],
   "source": [
    "w2v_model = gensim.models.Word2Vec(size = 300, sample=1e-5)"
   ]
  },
  {
   "cell_type": "markdown",
   "metadata": {},
   "source": [
    "I pulled a [pre-existing dataset](https://www.kaggle.com/therohk/million-headlines) of news headlines that we can add to the dataset I assembled to give our model as robust and wide a vocabulary as possible."
   ]
  },
  {
   "cell_type": "code",
   "execution_count": 10,
   "metadata": {},
   "outputs": [
    {
     "data": {
      "text/html": [
       "<div>\n",
       "<style scoped>\n",
       "    .dataframe tbody tr th:only-of-type {\n",
       "        vertical-align: middle;\n",
       "    }\n",
       "\n",
       "    .dataframe tbody tr th {\n",
       "        vertical-align: top;\n",
       "    }\n",
       "\n",
       "    .dataframe thead th {\n",
       "        text-align: right;\n",
       "    }\n",
       "</style>\n",
       "<table border=\"1\" class=\"dataframe\">\n",
       "  <thead>\n",
       "    <tr style=\"text-align: right;\">\n",
       "      <th></th>\n",
       "      <th>publish_date</th>\n",
       "      <th>headline_text</th>\n",
       "    </tr>\n",
       "  </thead>\n",
       "  <tbody>\n",
       "    <tr>\n",
       "      <th>0</th>\n",
       "      <td>20030219</td>\n",
       "      <td>aba decides against community broadcasting lic...</td>\n",
       "    </tr>\n",
       "    <tr>\n",
       "      <th>1</th>\n",
       "      <td>20030219</td>\n",
       "      <td>act fire witnesses must be aware of defamation</td>\n",
       "    </tr>\n",
       "    <tr>\n",
       "      <th>2</th>\n",
       "      <td>20030219</td>\n",
       "      <td>a g calls for infrastructure protection summit</td>\n",
       "    </tr>\n",
       "    <tr>\n",
       "      <th>3</th>\n",
       "      <td>20030219</td>\n",
       "      <td>air nz staff in aust strike for pay rise</td>\n",
       "    </tr>\n",
       "    <tr>\n",
       "      <th>4</th>\n",
       "      <td>20030219</td>\n",
       "      <td>air nz strike to affect australian travellers</td>\n",
       "    </tr>\n",
       "  </tbody>\n",
       "</table>\n",
       "</div>"
      ],
      "text/plain": [
       "   publish_date                                      headline_text\n",
       "0      20030219  aba decides against community broadcasting lic...\n",
       "1      20030219     act fire witnesses must be aware of defamation\n",
       "2      20030219     a g calls for infrastructure protection summit\n",
       "3      20030219           air nz staff in aust strike for pay rise\n",
       "4      20030219      air nz strike to affect australian travellers"
      ]
     },
     "execution_count": 10,
     "metadata": {},
     "output_type": "execute_result"
    }
   ],
   "source": [
    "abc_headlines = pd.read_csv('./data/abc_articles.csv')\n",
    "abc_headlines.head()"
   ]
  },
  {
   "cell_type": "markdown",
   "metadata": {},
   "source": [
    "First, we'll process the headlines using our previous `process_text()` function."
   ]
  },
  {
   "cell_type": "code",
   "execution_count": 11,
   "metadata": {},
   "outputs": [
    {
     "data": {
      "text/html": [
       "<div>\n",
       "<style scoped>\n",
       "    .dataframe tbody tr th:only-of-type {\n",
       "        vertical-align: middle;\n",
       "    }\n",
       "\n",
       "    .dataframe tbody tr th {\n",
       "        vertical-align: top;\n",
       "    }\n",
       "\n",
       "    .dataframe thead th {\n",
       "        text-align: right;\n",
       "    }\n",
       "</style>\n",
       "<table border=\"1\" class=\"dataframe\">\n",
       "  <thead>\n",
       "    <tr style=\"text-align: right;\">\n",
       "      <th></th>\n",
       "      <th>publish_date</th>\n",
       "      <th>headline_text</th>\n",
       "      <th>processed</th>\n",
       "    </tr>\n",
       "  </thead>\n",
       "  <tbody>\n",
       "    <tr>\n",
       "      <th>0</th>\n",
       "      <td>20030219</td>\n",
       "      <td>aba decides against community broadcasting lic...</td>\n",
       "      <td>[aba, decides, against, community, broadcastin...</td>\n",
       "    </tr>\n",
       "    <tr>\n",
       "      <th>1</th>\n",
       "      <td>20030219</td>\n",
       "      <td>act fire witnesses must be aware of defamation</td>\n",
       "      <td>[act, fire, witnesses, must, be, aware, of, de...</td>\n",
       "    </tr>\n",
       "    <tr>\n",
       "      <th>2</th>\n",
       "      <td>20030219</td>\n",
       "      <td>a g calls for infrastructure protection summit</td>\n",
       "      <td>[a, g, calls, for, infrastructure, protection,...</td>\n",
       "    </tr>\n",
       "    <tr>\n",
       "      <th>3</th>\n",
       "      <td>20030219</td>\n",
       "      <td>air nz staff in aust strike for pay rise</td>\n",
       "      <td>[air, nz, staff, in, aust, strike, for, pay, r...</td>\n",
       "    </tr>\n",
       "    <tr>\n",
       "      <th>4</th>\n",
       "      <td>20030219</td>\n",
       "      <td>air nz strike to affect australian travellers</td>\n",
       "      <td>[air, nz, strike, to, affect, australian, trav...</td>\n",
       "    </tr>\n",
       "  </tbody>\n",
       "</table>\n",
       "</div>"
      ],
      "text/plain": [
       "   publish_date                                      headline_text  \\\n",
       "0      20030219  aba decides against community broadcasting lic...   \n",
       "1      20030219     act fire witnesses must be aware of defamation   \n",
       "2      20030219     a g calls for infrastructure protection summit   \n",
       "3      20030219           air nz staff in aust strike for pay rise   \n",
       "4      20030219      air nz strike to affect australian travellers   \n",
       "\n",
       "                                           processed  \n",
       "0  [aba, decides, against, community, broadcastin...  \n",
       "1  [act, fire, witnesses, must, be, aware, of, de...  \n",
       "2  [a, g, calls, for, infrastructure, protection,...  \n",
       "3  [air, nz, staff, in, aust, strike, for, pay, r...  \n",
       "4  [air, nz, strike, to, affect, australian, trav...  "
      ]
     },
     "execution_count": 11,
     "metadata": {},
     "output_type": "execute_result"
    }
   ],
   "source": [
    "abc_headlines['processed'] = abc_headlines['headline_text'].apply(lambda text: process_text(text))\n",
    "abc_headlines.head()"
   ]
  },
  {
   "cell_type": "markdown",
   "metadata": {},
   "source": [
    "The Gensim Word2Vec model can't input `pd.DataFrame` or `pd.Series` objects, so let's convert the 'processed' `pd.Series` from each dataframe into a list of entries."
   ]
  },
  {
   "cell_type": "code",
   "execution_count": 12,
   "metadata": {},
   "outputs": [],
   "source": [
    "abc_rows = abc_headlines['processed'].to_list()\n",
    "\n",
    "article_rows = articles['processed'].to_list()\n",
    "\n",
    "combined_rows = abc_rows + article_rows"
   ]
  },
  {
   "cell_type": "markdown",
   "metadata": {},
   "source": [
    "Now, we can build the vocabulary of the model."
   ]
  },
  {
   "cell_type": "code",
   "execution_count": 17,
   "metadata": {},
   "outputs": [
    {
     "name": "stdout",
     "output_type": "stream",
     "text": [
      "Time to build vocab: 0.26 mins\n"
     ]
    }
   ],
   "source": [
    "start = time.time()\n",
    "\n",
    "w2v_model.build_vocab(combined_rows)\n",
    "\n",
    "current = time.time()\n",
    "elapsed = (current - start) / 60\n",
    "print('Time to build vocab: {} mins'.format(round(elapsed, 2)))"
   ]
  },
  {
   "cell_type": "markdown",
   "metadata": {},
   "source": [
    "Then, train it on the *combined* rows because the more data we have here, the better the model will be able to discern the relationships between the words. The sentiment classification will be done by the RNN later, so for right now we just want the best embeddings we can get."
   ]
  },
  {
   "cell_type": "code",
   "execution_count": 244,
   "metadata": {},
   "outputs": [
    {
     "name": "stdout",
     "output_type": "stream",
     "text": [
      "Time to train model: 4.48 mins\n"
     ]
    }
   ],
   "source": [
    "start = time.time()\n",
    "\n",
    "w2v_model.train(\n",
    "    combined_rows, \n",
    "    total_examples = w2v_model.corpus_count, \n",
    "    epochs = 30)\n",
    "\n",
    "current = time.time()\n",
    "elapsed = (current - start) / 60\n",
    "print('Time to train model: {} mins'.format(round(elapsed, 2)))\n",
    "\n",
    "w2v_model.save('./models/w2v')"
   ]
  },
  {
   "cell_type": "markdown",
   "metadata": {},
   "source": [
    "Run the following cell if you'd like to play around with the w2v model without having to train it!"
   ]
  },
  {
   "cell_type": "code",
   "execution_count": 19,
   "metadata": {},
   "outputs": [],
   "source": [
    "w2v_model = gensim.models.Word2Vec.load('./models/w2v')"
   ]
  },
  {
   "cell_type": "markdown",
   "metadata": {},
   "source": [
    "Time to sanity check the model."
   ]
  },
  {
   "cell_type": "code",
   "execution_count": 20,
   "metadata": {},
   "outputs": [
    {
     "data": {
      "text/plain": [
       "[('pandemic', 0.6704552173614502),\n",
       " ('vaccinated', 0.5635499358177185),\n",
       " ('streaming', 0.554112434387207),\n",
       " ('updates', 0.5361689329147339),\n",
       " ('antibodies', 0.5320745706558228),\n",
       " ('ebola', 0.5311349630355835),\n",
       " ('coronavirus', 0.5284198522567749),\n",
       " ('neighbors', 0.5263728499412537),\n",
       " ('vaccinate', 0.5231813192367554),\n",
       " ('swine', 0.5097109079360962)]"
      ]
     },
     "execution_count": 20,
     "metadata": {},
     "output_type": "execute_result"
    }
   ],
   "source": [
    "w2v_model.wv.most_similar('covid')"
   ]
  },
  {
   "cell_type": "markdown",
   "metadata": {},
   "source": [
    "Looks like it did alright!"
   ]
  },
  {
   "cell_type": "code",
   "execution_count": 193,
   "metadata": {},
   "outputs": [],
   "source": [
    "def torch_embed(word_list, word_vectors):\n",
    "    word_tensors = []\n",
    "    num_words = len(word_list)\n",
    "    for word in word_list:\n",
    "        try:\n",
    "            word_vector = word_vectors.get_vector(word)\n",
    "            word_torch_tensor = torch.from_numpy(word_vector)\n",
    "            word_tensors.append(word_torch_tensor)\n",
    "        # if the word doesn't haven an embedding, a KeyError is thrown\n",
    "        except KeyError as e:\n",
    "            print(e, 'Ignoring word.')\n",
    "            num_words -= 1\n",
    "            pass\n",
    "    # convert the list of tensors into one long tensor with shape (len(word_list), 300)\n",
    "    article_tensor = torch.stack(word_tensors)\n",
    "    article_tensor = article_tensor.view(article_tensor.shape[0], 300, 1)\n",
    "    return article_tensor"
   ]
  },
  {
   "cell_type": "code",
   "execution_count": 46,
   "metadata": {},
   "outputs": [],
   "source": [
    "x = articles['description'].isna()"
   ]
  },
  {
   "cell_type": "code",
   "execution_count": 47,
   "metadata": {},
   "outputs": [
    {
     "name": "stdout",
     "output_type": "stream",
     "text": [
      "862\n"
     ]
    }
   ],
   "source": [
    "for i, item in enumerate(x):\n",
    "    if item == True:\n",
    "        print(i)\n",
    "        break"
   ]
  },
  {
   "cell_type": "code",
   "execution_count": null,
   "metadata": {},
   "outputs": [],
   "source": [
    "class SentimentClassifier(nn.Module):\n",
    "    def __init__(self):\n",
    "        super(SentimentClassifier, self).__init__()\n",
    "        \n",
    "        self.embeddings = "
   ]
  }
 ],
 "metadata": {
  "kernelspec": {
   "display_name": "Python 3",
   "language": "python",
   "name": "python3"
  },
  "language_info": {
   "codemirror_mode": {
    "name": "ipython",
    "version": 3
   },
   "file_extension": ".py",
   "mimetype": "text/x-python",
   "name": "python",
   "nbconvert_exporter": "python",
   "pygments_lexer": "ipython3",
   "version": "3.7.4"
  }
 },
 "nbformat": 4,
 "nbformat_minor": 4
}
