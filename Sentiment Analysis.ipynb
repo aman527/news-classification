{
 "cells": [
  {
   "cell_type": "markdown",
   "metadata": {},
   "source": [
    "# Sentiment Analysis on News Articles\n",
    "Now that the data has been cleaned, we can proceed with trying to train a classifier. The general plan is to use word embeddings from a Word2Vec model to represent the text for each article, then use a many-to-one recurrent neural network to predict the sentiment of these articles."
   ]
  },
  {
   "cell_type": "code",
   "execution_count": 91,
   "metadata": {},
   "outputs": [],
   "source": [
    "import time\n",
    "import re\n",
    "import os\n",
    "import glob\n",
    "\n",
    "from matplotlib import pyplot as plt\n",
    "import numpy as np\n",
    "import pandas as pd\n",
    "\n",
    "import gensim.models\n",
    "\n",
    "import torch\n",
    "import torch.nn as nn\n",
    "import torch.nn.functional as F\n",
    "import torch.optim as optim\n",
    "\n",
    "if torch.cuda.is_available:\n",
    "    torch.set_default_tensor_type(torch.cuda.FloatTensor)\n",
    "    device = torch.device('cuda:0')\n",
    "else:\n",
    "    device = torch.device('cpu')"
   ]
  },
  {
   "cell_type": "markdown",
   "metadata": {},
   "source": [
    "## Processing the Headlines and Descriptions"
   ]
  },
  {
   "cell_type": "code",
   "execution_count": 2,
   "metadata": {},
   "outputs": [],
   "source": [
    "articles = pd.read_csv('./data/cleaned_articles.csv')"
   ]
  },
  {
   "cell_type": "markdown",
   "metadata": {},
   "source": [
    "Before begin, let's shuffle our articles dataframe and divide it into training, validation, testing sets. We'll allocate 80% of the data for training, 10% for validation, and the remaining 10% for testing."
   ]
  },
  {
   "cell_type": "code",
   "execution_count": 123,
   "metadata": {},
   "outputs": [
    {
     "name": "stdout",
     "output_type": "stream",
     "text": [
      "Total: 11877 | Train: 9503 | Val: 1187 | Test: 1187\n"
     ]
    }
   ],
   "source": [
    "shuffled_articles = articles.sample(frac = 1)\n",
    "num_articles = len(articles)\n",
    "num_val = int(0.1 * num_articles)\n",
    "\n",
    "train_df = shuffled_articles.iloc[2 * num_val:]\n",
    "val_df = shuffled_articles.iloc[num_val: 2 * num_val]\n",
    "test_df = shuffled_articles.iloc[:num_val]\n",
    "\n",
    "output = 'Total: {} | Train: {} | Val: {} | Test: {}'\n",
    "print(output.format(num_articles, len(train_df), len(val_df), len(test_df)))"
   ]
  },
  {
   "cell_type": "markdown",
   "metadata": {},
   "source": [
    "For reproducibility, we'll save the train/test split to csv files."
   ]
  },
  {
   "cell_type": "code",
   "execution_count": 124,
   "metadata": {},
   "outputs": [],
   "source": [
    "train_df.to_csv('data/train_split.csv', index = False)\n",
    "val_df.to_csv('data/val_split.csv', index = False)\n",
    "test_df.to_csv('data/test_split.csv', index = False)"
   ]
  },
  {
   "cell_type": "code",
   "execution_count": 125,
   "metadata": {},
   "outputs": [],
   "source": [
    "train_df = pd.read_csv('data/train_split.csv')\n",
    "val_df = pd.read_csv('data/val_split.csv')\n",
    "test_df = pd.read_csv('data/test_split.csv')"
   ]
  },
  {
   "cell_type": "markdown",
   "metadata": {},
   "source": [
    "Right now, the headlines and descriptions are two separate sequences of words that we can't directly analyze. To make things easier, let's concatenate the headlines and descriptions into one block of text so we can treat them as one sequence for the RNN to analyze."
   ]
  },
  {
   "cell_type": "code",
   "execution_count": 19,
   "metadata": {},
   "outputs": [],
   "source": [
    "def add_combined_column(dataframe, columns):\n",
    "    '''For each article in the dataframe, concatenate the headline and description into a combined entry,\n",
    "    ignoring NaN entries.\n",
    "    Arguments:\n",
    "        dataframe {pd.DataFrame} -- DataFrame to which the combined column will be added\n",
    "        columns {tuple} -- tuple of strings that indicate the two categories to combine to form 'combined'\n",
    "    '''\n",
    "    for i, row in dataframe.iterrows():\n",
    "        headline, description = row[columns[0]], row[columns[1]]\n",
    "        combined = \"\"\n",
    "        \n",
    "        if type(headline) == str:\n",
    "            combined += headline\n",
    "        elif type(description) == str:\n",
    "            combined += description\n",
    "            \n",
    "        dataframe.loc[i, 'combined'] = combined"
   ]
  },
  {
   "cell_type": "markdown",
   "metadata": {},
   "source": [
    "To make sure that our functions work (and to visualize the results), we'll apply the functinos to the `articles` dataframe after each step."
   ]
  },
  {
   "cell_type": "code",
   "execution_count": 7,
   "metadata": {
    "scrolled": true
   },
   "outputs": [
    {
     "data": {
      "text/html": [
       "<div>\n",
       "<style scoped>\n",
       "    .dataframe tbody tr th:only-of-type {\n",
       "        vertical-align: middle;\n",
       "    }\n",
       "\n",
       "    .dataframe tbody tr th {\n",
       "        vertical-align: top;\n",
       "    }\n",
       "\n",
       "    .dataframe thead th {\n",
       "        text-align: right;\n",
       "    }\n",
       "</style>\n",
       "<table border=\"1\" class=\"dataframe\">\n",
       "  <thead>\n",
       "    <tr style=\"text-align: right;\">\n",
       "      <th></th>\n",
       "      <th>headline</th>\n",
       "      <th>url</th>\n",
       "      <th>description</th>\n",
       "      <th>category</th>\n",
       "      <th>source</th>\n",
       "      <th>combined</th>\n",
       "    </tr>\n",
       "  </thead>\n",
       "  <tbody>\n",
       "    <tr>\n",
       "      <th>0</th>\n",
       "      <td>A Sad Bulldog, A Happy Prince And More Things ...</td>\n",
       "      <td>https://www.huffpost.com/entry/coronavirus-dis...</td>\n",
       "      <td>A sad bulldog and a happy, paint-covered princ...</td>\n",
       "      <td>good</td>\n",
       "      <td>huffpost</td>\n",
       "      <td>A Sad Bulldog, A Happy Prince And More Things ...</td>\n",
       "    </tr>\n",
       "    <tr>\n",
       "      <th>1</th>\n",
       "      <td>John Krasinski Shocks 9-Year-Old 'Hamilton' Fa...</td>\n",
       "      <td>https://www.huffpost.com/entry/john-krasinski-...</td>\n",
       "      <td>\"The Office\" star struck gold again in his You...</td>\n",
       "      <td>good</td>\n",
       "      <td>huffpost</td>\n",
       "      <td>John Krasinski Shocks 9-Year-Old 'Hamilton' Fa...</td>\n",
       "    </tr>\n",
       "    <tr>\n",
       "      <th>2</th>\n",
       "      <td>I Was Struggling As A Single Mom. Then A Stran...</td>\n",
       "      <td>https://www.huffpost.com/entry/struggling-sing...</td>\n",
       "      <td>\"With this gift, I was finally able to get out...</td>\n",
       "      <td>good</td>\n",
       "      <td>huffpost</td>\n",
       "      <td>I Was Struggling As A Single Mom. Then A Stran...</td>\n",
       "    </tr>\n",
       "    <tr>\n",
       "      <th>3</th>\n",
       "      <td>Pink's Advice To Fans: 'Change The F**king Wor...</td>\n",
       "      <td>https://www.huffpost.com/entry/pink-peoples-ch...</td>\n",
       "      <td>“I care about decency and humanity and kindnes...</td>\n",
       "      <td>good</td>\n",
       "      <td>huffpost</td>\n",
       "      <td>Pink's Advice To Fans: 'Change The F**king Wor...</td>\n",
       "    </tr>\n",
       "    <tr>\n",
       "      <th>4</th>\n",
       "      <td>10 Books For Parents Who Want To Raise Kind Kids</td>\n",
       "      <td>https://www.huffpost.com/entry/parenting-books...</td>\n",
       "      <td>These parenting books emphasize emotional inte...</td>\n",
       "      <td>good</td>\n",
       "      <td>huffpost</td>\n",
       "      <td>10 Books For Parents Who Want To Raise Kind Kids</td>\n",
       "    </tr>\n",
       "  </tbody>\n",
       "</table>\n",
       "</div>"
      ],
      "text/plain": [
       "                                            headline  \\\n",
       "0  A Sad Bulldog, A Happy Prince And More Things ...   \n",
       "1  John Krasinski Shocks 9-Year-Old 'Hamilton' Fa...   \n",
       "2  I Was Struggling As A Single Mom. Then A Stran...   \n",
       "3  Pink's Advice To Fans: 'Change The F**king Wor...   \n",
       "4   10 Books For Parents Who Want To Raise Kind Kids   \n",
       "\n",
       "                                                 url  \\\n",
       "0  https://www.huffpost.com/entry/coronavirus-dis...   \n",
       "1  https://www.huffpost.com/entry/john-krasinski-...   \n",
       "2  https://www.huffpost.com/entry/struggling-sing...   \n",
       "3  https://www.huffpost.com/entry/pink-peoples-ch...   \n",
       "4  https://www.huffpost.com/entry/parenting-books...   \n",
       "\n",
       "                                         description category    source  \\\n",
       "0  A sad bulldog and a happy, paint-covered princ...     good  huffpost   \n",
       "1  \"The Office\" star struck gold again in his You...     good  huffpost   \n",
       "2  \"With this gift, I was finally able to get out...     good  huffpost   \n",
       "3  “I care about decency and humanity and kindnes...     good  huffpost   \n",
       "4  These parenting books emphasize emotional inte...     good  huffpost   \n",
       "\n",
       "                                            combined  \n",
       "0  A Sad Bulldog, A Happy Prince And More Things ...  \n",
       "1  John Krasinski Shocks 9-Year-Old 'Hamilton' Fa...  \n",
       "2  I Was Struggling As A Single Mom. Then A Stran...  \n",
       "3  Pink's Advice To Fans: 'Change The F**king Wor...  \n",
       "4   10 Books For Parents Who Want To Raise Kind Kids  "
      ]
     },
     "execution_count": 7,
     "metadata": {},
     "output_type": "execute_result"
    }
   ],
   "source": [
    "add_combined_column(articles, ('headline', 'description'))\n",
    "articles.head()"
   ]
  },
  {
   "cell_type": "markdown",
   "metadata": {},
   "source": [
    "Nice! Before we can represent this new 'combined' entry as a matrix, we have to remove punctuation / special characters and numbers, since they don't convey much meaningful information about sentiment and could bog down the model."
   ]
  },
  {
   "cell_type": "code",
   "execution_count": 8,
   "metadata": {},
   "outputs": [],
   "source": [
    "def process_text(text):\n",
    "    text = text.lower()\n",
    "    # remove any non alphanumeric characters,\n",
    "    # escaping ' and * because of contractions and swear censorship\n",
    "    text = re.sub(r\"[^a-zA-Z'\\*]\", \" \", text)\n",
    "    # tokenize the combined text by splitting on spaces and removing whitespace\n",
    "    text = text.split()\n",
    "    word_list = []\n",
    "    for i, word in enumerate(text):\n",
    "        # remove any censored swears which would likely just waste space in the w2v model\n",
    "        if '*' in word:\n",
    "            continue\n",
    "        # remove any artifact of the regex checking that leaves a single apostrophe as a 'word'\n",
    "        elif word == \"'\":\n",
    "            continue\n",
    "        # remove single-quoted text by checking for first character apostrophes then last character apostrophes\n",
    "        word = re.sub(r\"^'\", \"\", word)\n",
    "        word = re.sub(r\"'$\", \"\", word)\n",
    "        \n",
    "        # removing 's possessives\n",
    "        word = re.sub(r\"'s$\", \"\", word)\n",
    "        word_list.append(word)\n",
    "        \n",
    "    return word_list"
   ]
  },
  {
   "cell_type": "code",
   "execution_count": 9,
   "metadata": {},
   "outputs": [
    {
     "data": {
      "text/html": [
       "<div>\n",
       "<style scoped>\n",
       "    .dataframe tbody tr th:only-of-type {\n",
       "        vertical-align: middle;\n",
       "    }\n",
       "\n",
       "    .dataframe tbody tr th {\n",
       "        vertical-align: top;\n",
       "    }\n",
       "\n",
       "    .dataframe thead th {\n",
       "        text-align: right;\n",
       "    }\n",
       "</style>\n",
       "<table border=\"1\" class=\"dataframe\">\n",
       "  <thead>\n",
       "    <tr style=\"text-align: right;\">\n",
       "      <th></th>\n",
       "      <th>headline</th>\n",
       "      <th>url</th>\n",
       "      <th>description</th>\n",
       "      <th>category</th>\n",
       "      <th>source</th>\n",
       "      <th>combined</th>\n",
       "      <th>processed</th>\n",
       "    </tr>\n",
       "  </thead>\n",
       "  <tbody>\n",
       "    <tr>\n",
       "      <th>0</th>\n",
       "      <td>A Sad Bulldog, A Happy Prince And More Things ...</td>\n",
       "      <td>https://www.huffpost.com/entry/coronavirus-dis...</td>\n",
       "      <td>A sad bulldog and a happy, paint-covered princ...</td>\n",
       "      <td>good</td>\n",
       "      <td>huffpost</td>\n",
       "      <td>A Sad Bulldog, A Happy Prince And More Things ...</td>\n",
       "      <td>[a, sad, bulldog, a, happy, prince, and, more,...</td>\n",
       "    </tr>\n",
       "    <tr>\n",
       "      <th>1</th>\n",
       "      <td>John Krasinski Shocks 9-Year-Old 'Hamilton' Fa...</td>\n",
       "      <td>https://www.huffpost.com/entry/john-krasinski-...</td>\n",
       "      <td>\"The Office\" star struck gold again in his You...</td>\n",
       "      <td>good</td>\n",
       "      <td>huffpost</td>\n",
       "      <td>John Krasinski Shocks 9-Year-Old 'Hamilton' Fa...</td>\n",
       "      <td>[john, krasinski, shocks, year, old, hamilton,...</td>\n",
       "    </tr>\n",
       "    <tr>\n",
       "      <th>2</th>\n",
       "      <td>I Was Struggling As A Single Mom. Then A Stran...</td>\n",
       "      <td>https://www.huffpost.com/entry/struggling-sing...</td>\n",
       "      <td>\"With this gift, I was finally able to get out...</td>\n",
       "      <td>good</td>\n",
       "      <td>huffpost</td>\n",
       "      <td>I Was Struggling As A Single Mom. Then A Stran...</td>\n",
       "      <td>[i, was, struggling, as, a, single, mom, then,...</td>\n",
       "    </tr>\n",
       "    <tr>\n",
       "      <th>3</th>\n",
       "      <td>Pink's Advice To Fans: 'Change The F**king Wor...</td>\n",
       "      <td>https://www.huffpost.com/entry/pink-peoples-ch...</td>\n",
       "      <td>“I care about decency and humanity and kindnes...</td>\n",
       "      <td>good</td>\n",
       "      <td>huffpost</td>\n",
       "      <td>Pink's Advice To Fans: 'Change The F**king Wor...</td>\n",
       "      <td>[pink, advice, to, fans, change, the, world]</td>\n",
       "    </tr>\n",
       "    <tr>\n",
       "      <th>4</th>\n",
       "      <td>10 Books For Parents Who Want To Raise Kind Kids</td>\n",
       "      <td>https://www.huffpost.com/entry/parenting-books...</td>\n",
       "      <td>These parenting books emphasize emotional inte...</td>\n",
       "      <td>good</td>\n",
       "      <td>huffpost</td>\n",
       "      <td>10 Books For Parents Who Want To Raise Kind Kids</td>\n",
       "      <td>[books, for, parents, who, want, to, raise, ki...</td>\n",
       "    </tr>\n",
       "  </tbody>\n",
       "</table>\n",
       "</div>"
      ],
      "text/plain": [
       "                                            headline  \\\n",
       "0  A Sad Bulldog, A Happy Prince And More Things ...   \n",
       "1  John Krasinski Shocks 9-Year-Old 'Hamilton' Fa...   \n",
       "2  I Was Struggling As A Single Mom. Then A Stran...   \n",
       "3  Pink's Advice To Fans: 'Change The F**king Wor...   \n",
       "4   10 Books For Parents Who Want To Raise Kind Kids   \n",
       "\n",
       "                                                 url  \\\n",
       "0  https://www.huffpost.com/entry/coronavirus-dis...   \n",
       "1  https://www.huffpost.com/entry/john-krasinski-...   \n",
       "2  https://www.huffpost.com/entry/struggling-sing...   \n",
       "3  https://www.huffpost.com/entry/pink-peoples-ch...   \n",
       "4  https://www.huffpost.com/entry/parenting-books...   \n",
       "\n",
       "                                         description category    source  \\\n",
       "0  A sad bulldog and a happy, paint-covered princ...     good  huffpost   \n",
       "1  \"The Office\" star struck gold again in his You...     good  huffpost   \n",
       "2  \"With this gift, I was finally able to get out...     good  huffpost   \n",
       "3  “I care about decency and humanity and kindnes...     good  huffpost   \n",
       "4  These parenting books emphasize emotional inte...     good  huffpost   \n",
       "\n",
       "                                            combined  \\\n",
       "0  A Sad Bulldog, A Happy Prince And More Things ...   \n",
       "1  John Krasinski Shocks 9-Year-Old 'Hamilton' Fa...   \n",
       "2  I Was Struggling As A Single Mom. Then A Stran...   \n",
       "3  Pink's Advice To Fans: 'Change The F**king Wor...   \n",
       "4   10 Books For Parents Who Want To Raise Kind Kids   \n",
       "\n",
       "                                           processed  \n",
       "0  [a, sad, bulldog, a, happy, prince, and, more,...  \n",
       "1  [john, krasinski, shocks, year, old, hamilton,...  \n",
       "2  [i, was, struggling, as, a, single, mom, then,...  \n",
       "3       [pink, advice, to, fans, change, the, world]  \n",
       "4  [books, for, parents, who, want, to, raise, ki...  "
      ]
     },
     "execution_count": 9,
     "metadata": {},
     "output_type": "execute_result"
    }
   ],
   "source": [
    "articles['processed'] = articles['combined'].apply(process_text)\n",
    "articles.head()"
   ]
  },
  {
   "cell_type": "markdown",
   "metadata": {},
   "source": [
    "Now that the data is combined and processed, we'll just transform the 'category' column into a `torch.Tensor` label from 0 to 3 that we'll use later on when training our RNN model."
   ]
  },
  {
   "cell_type": "code",
   "execution_count": 10,
   "metadata": {},
   "outputs": [],
   "source": [
    "def get_label(category):\n",
    "    if category == 'bad':\n",
    "        label = 0\n",
    "    elif category == 'neutral':\n",
    "        label = 1\n",
    "    elif category == 'good':\n",
    "        label = 2\n",
    "    else:\n",
    "        print(f\"Expected 'good', 'bad', or 'neutral' for category for article. Found: {category}.\")\n",
    "        return None\n",
    "    label = torch.tensor(label, dtype = torch.long)\n",
    "    return label"
   ]
  },
  {
   "cell_type": "code",
   "execution_count": 11,
   "metadata": {},
   "outputs": [
    {
     "data": {
      "text/html": [
       "<div>\n",
       "<style scoped>\n",
       "    .dataframe tbody tr th:only-of-type {\n",
       "        vertical-align: middle;\n",
       "    }\n",
       "\n",
       "    .dataframe tbody tr th {\n",
       "        vertical-align: top;\n",
       "    }\n",
       "\n",
       "    .dataframe thead th {\n",
       "        text-align: right;\n",
       "    }\n",
       "</style>\n",
       "<table border=\"1\" class=\"dataframe\">\n",
       "  <thead>\n",
       "    <tr style=\"text-align: right;\">\n",
       "      <th></th>\n",
       "      <th>headline</th>\n",
       "      <th>url</th>\n",
       "      <th>description</th>\n",
       "      <th>category</th>\n",
       "      <th>source</th>\n",
       "      <th>combined</th>\n",
       "      <th>processed</th>\n",
       "      <th>label</th>\n",
       "    </tr>\n",
       "  </thead>\n",
       "  <tbody>\n",
       "    <tr>\n",
       "      <th>0</th>\n",
       "      <td>A Sad Bulldog, A Happy Prince And More Things ...</td>\n",
       "      <td>https://www.huffpost.com/entry/coronavirus-dis...</td>\n",
       "      <td>A sad bulldog and a happy, paint-covered princ...</td>\n",
       "      <td>good</td>\n",
       "      <td>huffpost</td>\n",
       "      <td>A Sad Bulldog, A Happy Prince And More Things ...</td>\n",
       "      <td>[a, sad, bulldog, a, happy, prince, and, more,...</td>\n",
       "      <td>tensor(2)</td>\n",
       "    </tr>\n",
       "    <tr>\n",
       "      <th>1</th>\n",
       "      <td>John Krasinski Shocks 9-Year-Old 'Hamilton' Fa...</td>\n",
       "      <td>https://www.huffpost.com/entry/john-krasinski-...</td>\n",
       "      <td>\"The Office\" star struck gold again in his You...</td>\n",
       "      <td>good</td>\n",
       "      <td>huffpost</td>\n",
       "      <td>John Krasinski Shocks 9-Year-Old 'Hamilton' Fa...</td>\n",
       "      <td>[john, krasinski, shocks, year, old, hamilton,...</td>\n",
       "      <td>tensor(2)</td>\n",
       "    </tr>\n",
       "    <tr>\n",
       "      <th>2</th>\n",
       "      <td>I Was Struggling As A Single Mom. Then A Stran...</td>\n",
       "      <td>https://www.huffpost.com/entry/struggling-sing...</td>\n",
       "      <td>\"With this gift, I was finally able to get out...</td>\n",
       "      <td>good</td>\n",
       "      <td>huffpost</td>\n",
       "      <td>I Was Struggling As A Single Mom. Then A Stran...</td>\n",
       "      <td>[i, was, struggling, as, a, single, mom, then,...</td>\n",
       "      <td>tensor(2)</td>\n",
       "    </tr>\n",
       "    <tr>\n",
       "      <th>3</th>\n",
       "      <td>Pink's Advice To Fans: 'Change The F**king Wor...</td>\n",
       "      <td>https://www.huffpost.com/entry/pink-peoples-ch...</td>\n",
       "      <td>“I care about decency and humanity and kindnes...</td>\n",
       "      <td>good</td>\n",
       "      <td>huffpost</td>\n",
       "      <td>Pink's Advice To Fans: 'Change The F**king Wor...</td>\n",
       "      <td>[pink, advice, to, fans, change, the, world]</td>\n",
       "      <td>tensor(2)</td>\n",
       "    </tr>\n",
       "    <tr>\n",
       "      <th>4</th>\n",
       "      <td>10 Books For Parents Who Want To Raise Kind Kids</td>\n",
       "      <td>https://www.huffpost.com/entry/parenting-books...</td>\n",
       "      <td>These parenting books emphasize emotional inte...</td>\n",
       "      <td>good</td>\n",
       "      <td>huffpost</td>\n",
       "      <td>10 Books For Parents Who Want To Raise Kind Kids</td>\n",
       "      <td>[books, for, parents, who, want, to, raise, ki...</td>\n",
       "      <td>tensor(2)</td>\n",
       "    </tr>\n",
       "  </tbody>\n",
       "</table>\n",
       "</div>"
      ],
      "text/plain": [
       "                                            headline  \\\n",
       "0  A Sad Bulldog, A Happy Prince And More Things ...   \n",
       "1  John Krasinski Shocks 9-Year-Old 'Hamilton' Fa...   \n",
       "2  I Was Struggling As A Single Mom. Then A Stran...   \n",
       "3  Pink's Advice To Fans: 'Change The F**king Wor...   \n",
       "4   10 Books For Parents Who Want To Raise Kind Kids   \n",
       "\n",
       "                                                 url  \\\n",
       "0  https://www.huffpost.com/entry/coronavirus-dis...   \n",
       "1  https://www.huffpost.com/entry/john-krasinski-...   \n",
       "2  https://www.huffpost.com/entry/struggling-sing...   \n",
       "3  https://www.huffpost.com/entry/pink-peoples-ch...   \n",
       "4  https://www.huffpost.com/entry/parenting-books...   \n",
       "\n",
       "                                         description category    source  \\\n",
       "0  A sad bulldog and a happy, paint-covered princ...     good  huffpost   \n",
       "1  \"The Office\" star struck gold again in his You...     good  huffpost   \n",
       "2  \"With this gift, I was finally able to get out...     good  huffpost   \n",
       "3  “I care about decency and humanity and kindnes...     good  huffpost   \n",
       "4  These parenting books emphasize emotional inte...     good  huffpost   \n",
       "\n",
       "                                            combined  \\\n",
       "0  A Sad Bulldog, A Happy Prince And More Things ...   \n",
       "1  John Krasinski Shocks 9-Year-Old 'Hamilton' Fa...   \n",
       "2  I Was Struggling As A Single Mom. Then A Stran...   \n",
       "3  Pink's Advice To Fans: 'Change The F**king Wor...   \n",
       "4   10 Books For Parents Who Want To Raise Kind Kids   \n",
       "\n",
       "                                           processed      label  \n",
       "0  [a, sad, bulldog, a, happy, prince, and, more,...  tensor(2)  \n",
       "1  [john, krasinski, shocks, year, old, hamilton,...  tensor(2)  \n",
       "2  [i, was, struggling, as, a, single, mom, then,...  tensor(2)  \n",
       "3       [pink, advice, to, fans, change, the, world]  tensor(2)  \n",
       "4  [books, for, parents, who, want, to, raise, ki...  tensor(2)  "
      ]
     },
     "execution_count": 11,
     "metadata": {},
     "output_type": "execute_result"
    }
   ],
   "source": [
    "articles['label'] = articles['category'].apply(get_label)\n",
    "articles.head()"
   ]
  },
  {
   "cell_type": "markdown",
   "metadata": {},
   "source": [
    "Great! Now, let's combine those steps into one `preprocess()` function that we can apply to our `train_df` and `test_df`."
   ]
  },
  {
   "cell_type": "code",
   "execution_count": 12,
   "metadata": {},
   "outputs": [],
   "source": [
    "def preprocess_articles(*dataframes):\n",
    "    for dataframe in dataframes:\n",
    "        add_combined_column(dataframe, ('headline', 'description'))\n",
    "        dataframe['processed'] = dataframe['combined'].apply(process_text)\n",
    "        dataframe['label'] = dataframe['category'].apply(get_label)"
   ]
  },
  {
   "cell_type": "code",
   "execution_count": 131,
   "metadata": {},
   "outputs": [
    {
     "data": {
      "text/html": [
       "<div>\n",
       "<style scoped>\n",
       "    .dataframe tbody tr th:only-of-type {\n",
       "        vertical-align: middle;\n",
       "    }\n",
       "\n",
       "    .dataframe tbody tr th {\n",
       "        vertical-align: top;\n",
       "    }\n",
       "\n",
       "    .dataframe thead th {\n",
       "        text-align: right;\n",
       "    }\n",
       "</style>\n",
       "<table border=\"1\" class=\"dataframe\">\n",
       "  <thead>\n",
       "    <tr style=\"text-align: right;\">\n",
       "      <th></th>\n",
       "      <th>headline</th>\n",
       "      <th>url</th>\n",
       "      <th>description</th>\n",
       "      <th>category</th>\n",
       "      <th>source</th>\n",
       "      <th>combined</th>\n",
       "      <th>processed</th>\n",
       "      <th>label</th>\n",
       "    </tr>\n",
       "  </thead>\n",
       "  <tbody>\n",
       "    <tr>\n",
       "      <th>0</th>\n",
       "      <td>LA County Cops Fire at Pit Bull, Kill Teenager</td>\n",
       "      <td>https://www.newser.com/story/244699/la-county-...</td>\n",
       "      <td>17-year-old had been trying to restrain animal</td>\n",
       "      <td>bad</td>\n",
       "      <td>newser</td>\n",
       "      <td>LA County Cops Fire at Pit Bull, Kill Teenager</td>\n",
       "      <td>[la, county, cops, fire, at, pit, bull, kill, ...</td>\n",
       "      <td>tensor(0)</td>\n",
       "    </tr>\n",
       "    <tr>\n",
       "      <th>1</th>\n",
       "      <td>When Family Can’t Afford Motorized Wheelchair ...</td>\n",
       "      <td>https://www.goodnewsnetwork.org/when-family-ca...</td>\n",
       "      <td>A team of tenacious robotics students have cha...</td>\n",
       "      <td>good</td>\n",
       "      <td>goodnewsnetwork</td>\n",
       "      <td>When Family Can’t Afford Motorized Wheelchair ...</td>\n",
       "      <td>[when, family, can, t, afford, motorized, whee...</td>\n",
       "      <td>tensor(2)</td>\n",
       "    </tr>\n",
       "    <tr>\n",
       "      <th>2</th>\n",
       "      <td>Woman Who Visited and Fed Chained-Up Dog for a...</td>\n",
       "      <td>https://www.goodnewsnetwork.org/woman-who-visi...</td>\n",
       "      <td>Laura Seymour visited and fed this neglected p...</td>\n",
       "      <td>good</td>\n",
       "      <td>goodnewsnetwork</td>\n",
       "      <td>Woman Who Visited and Fed Chained-Up Dog for a...</td>\n",
       "      <td>[woman, who, visited, and, fed, chained, up, d...</td>\n",
       "      <td>tensor(2)</td>\n",
       "    </tr>\n",
       "    <tr>\n",
       "      <th>3</th>\n",
       "      <td>Newborn Found Buried Alive</td>\n",
       "      <td>https://www.newser.com/story/216766/newborn-fo...</td>\n",
       "      <td>Two sisters hear baby crying while taking a walk</td>\n",
       "      <td>bad</td>\n",
       "      <td>newser</td>\n",
       "      <td>Newborn Found Buried Alive</td>\n",
       "      <td>[newborn, found, buried, alive]</td>\n",
       "      <td>tensor(0)</td>\n",
       "    </tr>\n",
       "    <tr>\n",
       "      <th>4</th>\n",
       "      <td>Patton Oswalt: Grief Over My Wife's Death 'Is ...</td>\n",
       "      <td>https://www.newser.com/story/233161/patton-osw...</td>\n",
       "      <td>Comedian offers heartbreaking glimpse into lif...</td>\n",
       "      <td>bad</td>\n",
       "      <td>newser</td>\n",
       "      <td>Patton Oswalt: Grief Over My Wife's Death 'Is ...</td>\n",
       "      <td>[patton, oswalt, grief, over, my, wife, death,...</td>\n",
       "      <td>tensor(0)</td>\n",
       "    </tr>\n",
       "  </tbody>\n",
       "</table>\n",
       "</div>"
      ],
      "text/plain": [
       "                                            headline  \\\n",
       "0     LA County Cops Fire at Pit Bull, Kill Teenager   \n",
       "1  When Family Can’t Afford Motorized Wheelchair ...   \n",
       "2  Woman Who Visited and Fed Chained-Up Dog for a...   \n",
       "3                         Newborn Found Buried Alive   \n",
       "4  Patton Oswalt: Grief Over My Wife's Death 'Is ...   \n",
       "\n",
       "                                                 url  \\\n",
       "0  https://www.newser.com/story/244699/la-county-...   \n",
       "1  https://www.goodnewsnetwork.org/when-family-ca...   \n",
       "2  https://www.goodnewsnetwork.org/woman-who-visi...   \n",
       "3  https://www.newser.com/story/216766/newborn-fo...   \n",
       "4  https://www.newser.com/story/233161/patton-osw...   \n",
       "\n",
       "                                         description category  \\\n",
       "0     17-year-old had been trying to restrain animal      bad   \n",
       "1  A team of tenacious robotics students have cha...     good   \n",
       "2  Laura Seymour visited and fed this neglected p...     good   \n",
       "3   Two sisters hear baby crying while taking a walk      bad   \n",
       "4  Comedian offers heartbreaking glimpse into lif...      bad   \n",
       "\n",
       "            source                                           combined  \\\n",
       "0           newser     LA County Cops Fire at Pit Bull, Kill Teenager   \n",
       "1  goodnewsnetwork  When Family Can’t Afford Motorized Wheelchair ...   \n",
       "2  goodnewsnetwork  Woman Who Visited and Fed Chained-Up Dog for a...   \n",
       "3           newser                         Newborn Found Buried Alive   \n",
       "4           newser  Patton Oswalt: Grief Over My Wife's Death 'Is ...   \n",
       "\n",
       "                                           processed      label  \n",
       "0  [la, county, cops, fire, at, pit, bull, kill, ...  tensor(0)  \n",
       "1  [when, family, can, t, afford, motorized, whee...  tensor(2)  \n",
       "2  [woman, who, visited, and, fed, chained, up, d...  tensor(2)  \n",
       "3                    [newborn, found, buried, alive]  tensor(0)  \n",
       "4  [patton, oswalt, grief, over, my, wife, death,...  tensor(0)  "
      ]
     },
     "execution_count": 131,
     "metadata": {},
     "output_type": "execute_result"
    }
   ],
   "source": [
    "preprocess_articles(train_df, val_df, test_df)\n",
    "train_df.head()"
   ]
  },
  {
   "cell_type": "markdown",
   "metadata": {},
   "source": [
    "## Creating and Training the Word2Vec Model"
   ]
  },
  {
   "cell_type": "markdown",
   "metadata": {},
   "source": [
    "Let's initialize a Word2Vec Model with 300-dimensional word vectors and a subsampling parameter of 1e-5, since [Mikolov et al](https://arxiv.org/pdf/1310.4546.pdf) achieved good results with these settings."
   ]
  },
  {
   "cell_type": "code",
   "execution_count": 214,
   "metadata": {},
   "outputs": [],
   "source": [
    "EMBEDDING_DIM = 50\n",
    "w2v_model = gensim.models.Word2Vec(size = EMBEDDING_DIM, sample=1e-5)"
   ]
  },
  {
   "cell_type": "markdown",
   "metadata": {},
   "source": [
    "I pulled two pre-existing datasets, [one](https://www.kaggle.com/therohk/million-headlines) of ABC news headlines and the [other](https://www.kaggle.com/snapcrack/all-the-news) from 15 news organizations. We can add these two to the dataset I assembled to give our model as robust and wide a vocabulary as possible."
   ]
  },
  {
   "cell_type": "code",
   "execution_count": 15,
   "metadata": {},
   "outputs": [
    {
     "data": {
      "text/html": [
       "<div>\n",
       "<style scoped>\n",
       "    .dataframe tbody tr th:only-of-type {\n",
       "        vertical-align: middle;\n",
       "    }\n",
       "\n",
       "    .dataframe tbody tr th {\n",
       "        vertical-align: top;\n",
       "    }\n",
       "\n",
       "    .dataframe thead th {\n",
       "        text-align: right;\n",
       "    }\n",
       "</style>\n",
       "<table border=\"1\" class=\"dataframe\">\n",
       "  <thead>\n",
       "    <tr style=\"text-align: right;\">\n",
       "      <th></th>\n",
       "      <th>publish_date</th>\n",
       "      <th>headline_text</th>\n",
       "    </tr>\n",
       "  </thead>\n",
       "  <tbody>\n",
       "    <tr>\n",
       "      <th>0</th>\n",
       "      <td>20030219</td>\n",
       "      <td>aba decides against community broadcasting lic...</td>\n",
       "    </tr>\n",
       "    <tr>\n",
       "      <th>1</th>\n",
       "      <td>20030219</td>\n",
       "      <td>act fire witnesses must be aware of defamation</td>\n",
       "    </tr>\n",
       "    <tr>\n",
       "      <th>2</th>\n",
       "      <td>20030219</td>\n",
       "      <td>a g calls for infrastructure protection summit</td>\n",
       "    </tr>\n",
       "    <tr>\n",
       "      <th>3</th>\n",
       "      <td>20030219</td>\n",
       "      <td>air nz staff in aust strike for pay rise</td>\n",
       "    </tr>\n",
       "    <tr>\n",
       "      <th>4</th>\n",
       "      <td>20030219</td>\n",
       "      <td>air nz strike to affect australian travellers</td>\n",
       "    </tr>\n",
       "  </tbody>\n",
       "</table>\n",
       "</div>"
      ],
      "text/plain": [
       "   publish_date                                      headline_text\n",
       "0      20030219  aba decides against community broadcasting lic...\n",
       "1      20030219     act fire witnesses must be aware of defamation\n",
       "2      20030219     a g calls for infrastructure protection summit\n",
       "3      20030219           air nz staff in aust strike for pay rise\n",
       "4      20030219      air nz strike to affect australian travellers"
      ]
     },
     "execution_count": 15,
     "metadata": {},
     "output_type": "execute_result"
    }
   ],
   "source": [
    "abc_headlines = pd.read_csv('./data/external/abc_articles.csv')\n",
    "abc_headlines.head()"
   ]
  },
  {
   "cell_type": "code",
   "execution_count": 209,
   "metadata": {},
   "outputs": [
    {
     "data": {
      "text/html": [
       "<div>\n",
       "<style scoped>\n",
       "    .dataframe tbody tr th:only-of-type {\n",
       "        vertical-align: middle;\n",
       "    }\n",
       "\n",
       "    .dataframe tbody tr th {\n",
       "        vertical-align: top;\n",
       "    }\n",
       "\n",
       "    .dataframe thead th {\n",
       "        text-align: right;\n",
       "    }\n",
       "</style>\n",
       "<table border=\"1\" class=\"dataframe\">\n",
       "  <thead>\n",
       "    <tr style=\"text-align: right;\">\n",
       "      <th></th>\n",
       "      <th>Unnamed: 0</th>\n",
       "      <th>id</th>\n",
       "      <th>title</th>\n",
       "      <th>publication</th>\n",
       "      <th>author</th>\n",
       "      <th>date</th>\n",
       "      <th>year</th>\n",
       "      <th>month</th>\n",
       "      <th>url</th>\n",
       "      <th>content</th>\n",
       "    </tr>\n",
       "  </thead>\n",
       "  <tbody>\n",
       "    <tr>\n",
       "      <th>0</th>\n",
       "      <td>0</td>\n",
       "      <td>17283</td>\n",
       "      <td>House Republicans Fret About Winning Their Hea...</td>\n",
       "      <td>New York Times</td>\n",
       "      <td>Carl Hulse</td>\n",
       "      <td>2016-12-31</td>\n",
       "      <td>2016.0</td>\n",
       "      <td>12.0</td>\n",
       "      <td>NaN</td>\n",
       "      <td>WASHINGTON  —   Congressional Republicans have...</td>\n",
       "    </tr>\n",
       "    <tr>\n",
       "      <th>1</th>\n",
       "      <td>1</td>\n",
       "      <td>17284</td>\n",
       "      <td>Rift Between Officers and Residents as Killing...</td>\n",
       "      <td>New York Times</td>\n",
       "      <td>Benjamin Mueller and Al Baker</td>\n",
       "      <td>2017-06-19</td>\n",
       "      <td>2017.0</td>\n",
       "      <td>6.0</td>\n",
       "      <td>NaN</td>\n",
       "      <td>After the bullet shells get counted, the blood...</td>\n",
       "    </tr>\n",
       "    <tr>\n",
       "      <th>2</th>\n",
       "      <td>2</td>\n",
       "      <td>17285</td>\n",
       "      <td>Tyrus Wong, ‘Bambi’ Artist Thwarted by Racial ...</td>\n",
       "      <td>New York Times</td>\n",
       "      <td>Margalit Fox</td>\n",
       "      <td>2017-01-06</td>\n",
       "      <td>2017.0</td>\n",
       "      <td>1.0</td>\n",
       "      <td>NaN</td>\n",
       "      <td>When Walt Disney’s “Bambi” opened in 1942, cri...</td>\n",
       "    </tr>\n",
       "    <tr>\n",
       "      <th>3</th>\n",
       "      <td>3</td>\n",
       "      <td>17286</td>\n",
       "      <td>Among Deaths in 2016, a Heavy Toll in Pop Musi...</td>\n",
       "      <td>New York Times</td>\n",
       "      <td>William McDonald</td>\n",
       "      <td>2017-04-10</td>\n",
       "      <td>2017.0</td>\n",
       "      <td>4.0</td>\n",
       "      <td>NaN</td>\n",
       "      <td>Death may be the great equalizer, but it isn’t...</td>\n",
       "    </tr>\n",
       "    <tr>\n",
       "      <th>4</th>\n",
       "      <td>4</td>\n",
       "      <td>17287</td>\n",
       "      <td>Kim Jong-un Says North Korea Is Preparing to T...</td>\n",
       "      <td>New York Times</td>\n",
       "      <td>Choe Sang-Hun</td>\n",
       "      <td>2017-01-02</td>\n",
       "      <td>2017.0</td>\n",
       "      <td>1.0</td>\n",
       "      <td>NaN</td>\n",
       "      <td>SEOUL, South Korea  —   North Korea’s leader, ...</td>\n",
       "    </tr>\n",
       "  </tbody>\n",
       "</table>\n",
       "</div>"
      ],
      "text/plain": [
       "   Unnamed: 0     id                                              title  \\\n",
       "0           0  17283  House Republicans Fret About Winning Their Hea...   \n",
       "1           1  17284  Rift Between Officers and Residents as Killing...   \n",
       "2           2  17285  Tyrus Wong, ‘Bambi’ Artist Thwarted by Racial ...   \n",
       "3           3  17286  Among Deaths in 2016, a Heavy Toll in Pop Musi...   \n",
       "4           4  17287  Kim Jong-un Says North Korea Is Preparing to T...   \n",
       "\n",
       "      publication                         author        date    year  month  \\\n",
       "0  New York Times                     Carl Hulse  2016-12-31  2016.0   12.0   \n",
       "1  New York Times  Benjamin Mueller and Al Baker  2017-06-19  2017.0    6.0   \n",
       "2  New York Times                   Margalit Fox  2017-01-06  2017.0    1.0   \n",
       "3  New York Times               William McDonald  2017-04-10  2017.0    4.0   \n",
       "4  New York Times                  Choe Sang-Hun  2017-01-02  2017.0    1.0   \n",
       "\n",
       "   url                                            content  \n",
       "0  NaN  WASHINGTON  —   Congressional Republicans have...  \n",
       "1  NaN  After the bullet shells get counted, the blood...  \n",
       "2  NaN  When Walt Disney’s “Bambi” opened in 1942, cri...  \n",
       "3  NaN  Death may be the great equalizer, but it isn’t...  \n",
       "4  NaN  SEOUL, South Korea  —   North Korea’s leader, ...  "
      ]
     },
     "execution_count": 209,
     "metadata": {},
     "output_type": "execute_result"
    }
   ],
   "source": [
    "all_the_news_path = r'./data/external/All the News'\n",
    "ATN_csv_files = glob.glob(os.path.join(all_the_news_path, '*.csv')) # ATN: All the News\n",
    "ATN_articles = pd.concat((pd.read_csv(file) for file in ATN_csv_files))\n",
    "ATN_articles.head()"
   ]
  },
  {
   "cell_type": "markdown",
   "metadata": {},
   "source": [
    "Let's just keep the titles and contents of the `ATN_articles`."
   ]
  },
  {
   "cell_type": "code",
   "execution_count": 210,
   "metadata": {},
   "outputs": [],
   "source": [
    "ATN_articles = ATN_articles.loc[:, ['id', 'title', 'content']]\n",
    "ATN_articles.dropna(inplace = True)"
   ]
  },
  {
   "cell_type": "markdown",
   "metadata": {},
   "source": [
    "We'll process the headlines using our previous `process_text()` function so that the Word2Vec model can input them."
   ]
  },
  {
   "cell_type": "code",
   "execution_count": 35,
   "metadata": {},
   "outputs": [
    {
     "data": {
      "text/html": [
       "<div>\n",
       "<style scoped>\n",
       "    .dataframe tbody tr th:only-of-type {\n",
       "        vertical-align: middle;\n",
       "    }\n",
       "\n",
       "    .dataframe tbody tr th {\n",
       "        vertical-align: top;\n",
       "    }\n",
       "\n",
       "    .dataframe thead th {\n",
       "        text-align: right;\n",
       "    }\n",
       "</style>\n",
       "<table border=\"1\" class=\"dataframe\">\n",
       "  <thead>\n",
       "    <tr style=\"text-align: right;\">\n",
       "      <th></th>\n",
       "      <th>publish_date</th>\n",
       "      <th>headline_text</th>\n",
       "      <th>processed</th>\n",
       "    </tr>\n",
       "  </thead>\n",
       "  <tbody>\n",
       "    <tr>\n",
       "      <th>0</th>\n",
       "      <td>20030219</td>\n",
       "      <td>aba decides against community broadcasting lic...</td>\n",
       "      <td>[aba, decides, against, community, broadcastin...</td>\n",
       "    </tr>\n",
       "    <tr>\n",
       "      <th>1</th>\n",
       "      <td>20030219</td>\n",
       "      <td>act fire witnesses must be aware of defamation</td>\n",
       "      <td>[act, fire, witnesses, must, be, aware, of, de...</td>\n",
       "    </tr>\n",
       "    <tr>\n",
       "      <th>2</th>\n",
       "      <td>20030219</td>\n",
       "      <td>a g calls for infrastructure protection summit</td>\n",
       "      <td>[a, g, calls, for, infrastructure, protection,...</td>\n",
       "    </tr>\n",
       "    <tr>\n",
       "      <th>3</th>\n",
       "      <td>20030219</td>\n",
       "      <td>air nz staff in aust strike for pay rise</td>\n",
       "      <td>[air, nz, staff, in, aust, strike, for, pay, r...</td>\n",
       "    </tr>\n",
       "    <tr>\n",
       "      <th>4</th>\n",
       "      <td>20030219</td>\n",
       "      <td>air nz strike to affect australian travellers</td>\n",
       "      <td>[air, nz, strike, to, affect, australian, trav...</td>\n",
       "    </tr>\n",
       "  </tbody>\n",
       "</table>\n",
       "</div>"
      ],
      "text/plain": [
       "   publish_date                                      headline_text  \\\n",
       "0      20030219  aba decides against community broadcasting lic...   \n",
       "1      20030219     act fire witnesses must be aware of defamation   \n",
       "2      20030219     a g calls for infrastructure protection summit   \n",
       "3      20030219           air nz staff in aust strike for pay rise   \n",
       "4      20030219      air nz strike to affect australian travellers   \n",
       "\n",
       "                                           processed  \n",
       "0  [aba, decides, against, community, broadcastin...  \n",
       "1  [act, fire, witnesses, must, be, aware, of, de...  \n",
       "2  [a, g, calls, for, infrastructure, protection,...  \n",
       "3  [air, nz, staff, in, aust, strike, for, pay, r...  \n",
       "4  [air, nz, strike, to, affect, australian, trav...  "
      ]
     },
     "execution_count": 35,
     "metadata": {},
     "output_type": "execute_result"
    }
   ],
   "source": [
    "abc_headlines['processed'] = abc_headlines['headline_text'].apply(process_text)\n",
    "abc_headlines.head()"
   ]
  },
  {
   "cell_type": "code",
   "execution_count": 211,
   "metadata": {},
   "outputs": [
    {
     "data": {
      "text/html": [
       "<div>\n",
       "<style scoped>\n",
       "    .dataframe tbody tr th:only-of-type {\n",
       "        vertical-align: middle;\n",
       "    }\n",
       "\n",
       "    .dataframe tbody tr th {\n",
       "        vertical-align: top;\n",
       "    }\n",
       "\n",
       "    .dataframe thead th {\n",
       "        text-align: right;\n",
       "    }\n",
       "</style>\n",
       "<table border=\"1\" class=\"dataframe\">\n",
       "  <thead>\n",
       "    <tr style=\"text-align: right;\">\n",
       "      <th></th>\n",
       "      <th>id</th>\n",
       "      <th>title</th>\n",
       "      <th>content</th>\n",
       "      <th>processed_title</th>\n",
       "      <th>processed_content</th>\n",
       "    </tr>\n",
       "  </thead>\n",
       "  <tbody>\n",
       "    <tr>\n",
       "      <th>0</th>\n",
       "      <td>17283</td>\n",
       "      <td>House Republicans Fret About Winning Their Hea...</td>\n",
       "      <td>WASHINGTON  —   Congressional Republicans have...</td>\n",
       "      <td>[house, republicans, fret, about, winning, the...</td>\n",
       "      <td>[washington, congressional, republicans, have,...</td>\n",
       "    </tr>\n",
       "    <tr>\n",
       "      <th>1</th>\n",
       "      <td>17284</td>\n",
       "      <td>Rift Between Officers and Residents as Killing...</td>\n",
       "      <td>After the bullet shells get counted, the blood...</td>\n",
       "      <td>[rift, between, officers, and, residents, as, ...</td>\n",
       "      <td>[after, the, bullet, shells, get, counted, the...</td>\n",
       "    </tr>\n",
       "    <tr>\n",
       "      <th>2</th>\n",
       "      <td>17285</td>\n",
       "      <td>Tyrus Wong, ‘Bambi’ Artist Thwarted by Racial ...</td>\n",
       "      <td>When Walt Disney’s “Bambi” opened in 1942, cri...</td>\n",
       "      <td>[tyrus, wong, bambi, artist, thwarted, by, rac...</td>\n",
       "      <td>[when, walt, disney, s, bambi, opened, in, cri...</td>\n",
       "    </tr>\n",
       "    <tr>\n",
       "      <th>3</th>\n",
       "      <td>17286</td>\n",
       "      <td>Among Deaths in 2016, a Heavy Toll in Pop Musi...</td>\n",
       "      <td>Death may be the great equalizer, but it isn’t...</td>\n",
       "      <td>[among, deaths, in, a, heavy, toll, in, pop, m...</td>\n",
       "      <td>[death, may, be, the, great, equalizer, but, i...</td>\n",
       "    </tr>\n",
       "    <tr>\n",
       "      <th>4</th>\n",
       "      <td>17287</td>\n",
       "      <td>Kim Jong-un Says North Korea Is Preparing to T...</td>\n",
       "      <td>SEOUL, South Korea  —   North Korea’s leader, ...</td>\n",
       "      <td>[kim, jong, un, says, north, korea, is, prepar...</td>\n",
       "      <td>[seoul, south, korea, north, korea, s, leader,...</td>\n",
       "    </tr>\n",
       "  </tbody>\n",
       "</table>\n",
       "</div>"
      ],
      "text/plain": [
       "      id                                              title  \\\n",
       "0  17283  House Republicans Fret About Winning Their Hea...   \n",
       "1  17284  Rift Between Officers and Residents as Killing...   \n",
       "2  17285  Tyrus Wong, ‘Bambi’ Artist Thwarted by Racial ...   \n",
       "3  17286  Among Deaths in 2016, a Heavy Toll in Pop Musi...   \n",
       "4  17287  Kim Jong-un Says North Korea Is Preparing to T...   \n",
       "\n",
       "                                             content  \\\n",
       "0  WASHINGTON  —   Congressional Republicans have...   \n",
       "1  After the bullet shells get counted, the blood...   \n",
       "2  When Walt Disney’s “Bambi” opened in 1942, cri...   \n",
       "3  Death may be the great equalizer, but it isn’t...   \n",
       "4  SEOUL, South Korea  —   North Korea’s leader, ...   \n",
       "\n",
       "                                     processed_title  \\\n",
       "0  [house, republicans, fret, about, winning, the...   \n",
       "1  [rift, between, officers, and, residents, as, ...   \n",
       "2  [tyrus, wong, bambi, artist, thwarted, by, rac...   \n",
       "3  [among, deaths, in, a, heavy, toll, in, pop, m...   \n",
       "4  [kim, jong, un, says, north, korea, is, prepar...   \n",
       "\n",
       "                                   processed_content  \n",
       "0  [washington, congressional, republicans, have,...  \n",
       "1  [after, the, bullet, shells, get, counted, the...  \n",
       "2  [when, walt, disney, s, bambi, opened, in, cri...  \n",
       "3  [death, may, be, the, great, equalizer, but, i...  \n",
       "4  [seoul, south, korea, north, korea, s, leader,...  "
      ]
     },
     "execution_count": 211,
     "metadata": {},
     "output_type": "execute_result"
    }
   ],
   "source": [
    "ATN_articles['processed_title'] = ATN_articles['title'].apply(process_text)\n",
    "ATN_articles['processed_content'] = ATN_articles['content'].apply(process_text)\n",
    "ATN_articles.head()"
   ]
  },
  {
   "cell_type": "markdown",
   "metadata": {},
   "source": [
    "The Gensim Word2Vec model can't input `pd.DataFrame` or `pd.Series` objects, so let's convert the 'processed' `pd.Series` from each dataframe into a list of entries."
   ]
  },
  {
   "cell_type": "code",
   "execution_count": 212,
   "metadata": {},
   "outputs": [],
   "source": [
    "abc_rows = abc_headlines['processed'].to_list()\n",
    "\n",
    "ATN_title_rows = ATN_articles['processed_title'].to_list()\n",
    "\n",
    "ATN_content_rows = ATN_articles['processed_content'].to_list()\n",
    "\n",
    "article_rows = articles['processed'].to_list()\n",
    "\n",
    "combined_rows = abc_rows + article_rows + ATN_title_rows + ATN_content_rows"
   ]
  },
  {
   "cell_type": "markdown",
   "metadata": {},
   "source": [
    "Now, we can build the vocabulary of the model."
   ]
  },
  {
   "cell_type": "code",
   "execution_count": 215,
   "metadata": {},
   "outputs": [
    {
     "name": "stdout",
     "output_type": "stream",
     "text": [
      "Time to build vocab: 2.23 mins\n"
     ]
    }
   ],
   "source": [
    "start = time.time()\n",
    "\n",
    "w2v_model.build_vocab(combined_rows, min_count = 1)\n",
    "\n",
    "current = time.time()\n",
    "elapsed = (current - start) / 60\n",
    "print('Time to build vocab: {} mins'.format(round(elapsed, 2)))"
   ]
  },
  {
   "cell_type": "markdown",
   "metadata": {},
   "source": [
    "Then, train it on the *combined* rows because the more data we have here, the better the model will be able to discern the relationships between the words. The sentiment classification will be done by the RNN later, so for right now we just want the best embeddings we can get."
   ]
  },
  {
   "cell_type": "code",
   "execution_count": 216,
   "metadata": {},
   "outputs": [
    {
     "name": "stdout",
     "output_type": "stream",
     "text": [
      "Time to train model: 64.01 mins\n"
     ]
    }
   ],
   "source": [
    "start = time.time()\n",
    "\n",
    "w2v_model.train(\n",
    "    combined_rows, \n",
    "    total_examples = w2v_model.corpus_count, \n",
    "    epochs = 50)\n",
    "\n",
    "current = time.time()\n",
    "elapsed = (current - start) / 60\n",
    "print('Time to train model: {} mins'.format(round(elapsed, 2)))\n",
    "\n",
    "w2v_model.save('./models/w2v')"
   ]
  },
  {
   "cell_type": "markdown",
   "metadata": {},
   "source": [
    "Checkpoint for `w2v_model`. Run if you'd like to play with the model without waiting for it to train!"
   ]
  },
  {
   "cell_type": "code",
   "execution_count": 40,
   "metadata": {},
   "outputs": [],
   "source": [
    "w2v_model = gensim.models.Word2Vec.load('./models/w2v')"
   ]
  },
  {
   "cell_type": "markdown",
   "metadata": {},
   "source": [
    "Time to sanity check the model."
   ]
  },
  {
   "cell_type": "code",
   "execution_count": 219,
   "metadata": {},
   "outputs": [
    {
     "data": {
      "text/plain": [
       "[('barack', 0.9670791029930115),\n",
       " ('president', 0.8825982809066772),\n",
       " ('administration', 0.83634352684021),\n",
       " ('bush', 0.7738842964172363),\n",
       " ('presidency', 0.761516809463501),\n",
       " ('trump', 0.7546470165252686),\n",
       " ('predecessor', 0.7356011271476746),\n",
       " ('donald', 0.7262818813323975),\n",
       " ('incoming', 0.697263240814209),\n",
       " ('vowed', 0.6782877445220947)]"
      ]
     },
     "execution_count": 219,
     "metadata": {},
     "output_type": "execute_result"
    }
   ],
   "source": [
    "w2v_model.wv.most_similar('obama')"
   ]
  },
  {
   "cell_type": "markdown",
   "metadata": {},
   "source": [
    "Looks like it did alright!"
   ]
  },
  {
   "cell_type": "markdown",
   "metadata": {},
   "source": [
    "## Model Creation\n",
    "To predict the sentiment of the text, we'll use a many-to-one LSTM. The hidden state of the LSTM should allow us to pick up long-term negations and other constructions that can affect the sentiment."
   ]
  },
  {
   "cell_type": "code",
   "execution_count": 229,
   "metadata": {},
   "outputs": [],
   "source": [
    "class SentimentClassifier(nn.Module):\n",
    "    def __init__(self, word_vectors, hidden_size, num_layers = 1):\n",
    "        '''\n",
    "        Arguments:\n",
    "            input_size {int} -- number of input features to be expected\n",
    "            hidden_size {int} -- number of features in the hidden state\n",
    "            word_vectors {gensim.models.keyedvectors.Word2VecKeyedVectors} -- trained word vectors to embed sentences\n",
    "        '''\n",
    "        super(SentimentClassifier, self).__init__()\n",
    "        \n",
    "        self.word_vectors = word_vectors\n",
    "        self.hidden_size = hidden_size\n",
    "        self.GRU = nn.GRU(input_size = EMBEDDING_DIM,\n",
    "                            hidden_size = self.hidden_size,\n",
    "                            num_layers = num_layers)\n",
    "        # 3 is the number of classes (good, neutral, negative)\n",
    "        self.linear = nn.Linear(hidden_size, 3)\n",
    "        \n",
    "    def embed(self, news_text):\n",
    "        '''Inputs the processed news text, then embeds all words in the vocabulary of the word vectors.'''\n",
    "        word_tensors = []\n",
    "        for word in news_text:\n",
    "            try:\n",
    "                word_vector = self.word_vectors.get_vector(word)\n",
    "                word_torch_tensor = torch.from_numpy(word_vector)\n",
    "                word_tensors.append(word_torch_tensor)\n",
    "            # if the word doesn't haven an embedding, a KeyError is thrown\n",
    "            except KeyError as e:\n",
    "                print(e, 'Ignoring word.')\n",
    "                pass\n",
    "        # convert the list of tensors into one long tensor with shape (# of words, EMBEDDING_DIM)\n",
    "        article_tensor = torch.stack(word_tensors)\n",
    "        # self.LSTM expects the input tensor to be in format (# of words, batch_size, EMBEDDING_DIM)\n",
    "        article_tensor = article_tensor.view(len(article_tensor), 1, EMBEDDING_DIM)\n",
    "        article_tensor = article_tensor.to(device)\n",
    "        return article_tensor\n",
    "\n",
    "    def forward(self, news_text):\n",
    "        embedded_text = self.embed(news_text)\n",
    "        '''The first value returned below is a tensor of the outputs from all timesteps. \n",
    "        Since we only need the output of the final layer, we can ignore it. \n",
    "        The second value, output, is the desired hidden state from the final timestep.'''\n",
    "        _, output = self.GRU(embedded_text)\n",
    "        # the output has a shape of (num_layers, batch_size, hidden_size)\n",
    "        # the outputs from previous layers aren't important, \n",
    "        # so take the output of the final layer of the LSTM (the first index in lstm_output)\n",
    "        output = output[0]\n",
    "        # transform the output to shape (batch_size, 3) where 3 is the number of classes\n",
    "        output = self.linear(output)\n",
    "        return output"
   ]
  },
  {
   "cell_type": "markdown",
   "metadata": {},
   "source": [
    "Let's test to see if the model does what we want. Since there are three classes, we should see a tensor with shape (3,) returned."
   ]
  },
  {
   "cell_type": "code",
   "execution_count": 255,
   "metadata": {},
   "outputs": [],
   "source": [
    "model = SentimentClassifier(word_vectors = w2v_model.wv, hidden_size = 5)"
   ]
  },
  {
   "cell_type": "code",
   "execution_count": 256,
   "metadata": {},
   "outputs": [
    {
     "name": "stdout",
     "output_type": "stream",
     "text": [
      "tensor([[ 0.4678, -0.1807,  0.1423]], grad_fn=<AddmmBackward>)\n"
     ]
    }
   ],
   "source": [
    "test_output = model(articles.loc[0, 'processed'])\n",
    "print(test_output)"
   ]
  },
  {
   "cell_type": "markdown",
   "metadata": {},
   "source": [
    "Great!"
   ]
  },
  {
   "cell_type": "markdown",
   "metadata": {},
   "source": [
    "## Training\n",
    "Before we can train the model, we'll need to convert the 'processed' and 'label' columns from the `articles` dataframe into torch `Dataset` so it can be used in a `DataLoader` during the training process."
   ]
  },
  {
   "cell_type": "code",
   "execution_count": 78,
   "metadata": {},
   "outputs": [],
   "source": [
    "class NewsDataset(torch.utils.data.Dataset):\n",
    "    def __init__(self, articles_dataframe):\n",
    "        self.articles_dataframe = articles_dataframe\n",
    "    \n",
    "    def __getitem__(self, index):\n",
    "        (text, label) = self.articles_dataframe.loc[index, ['processed', 'label']]\n",
    "        # the loss function will expect the label to be of shape (batch_size)\n",
    "        label = label.view(1)\n",
    "        item = {'text': text, 'label': label}\n",
    "        return item\n",
    "    \n",
    "    def __len__(self):\n",
    "        return len(self.articles_dataframe)"
   ]
  },
  {
   "cell_type": "markdown",
   "metadata": {},
   "source": [
    "Now, we'll instantiate `NewsDataset` objects for the training and testing sets so that we can then create `DataLoader` objects."
   ]
  },
  {
   "cell_type": "code",
   "execution_count": 155,
   "metadata": {},
   "outputs": [],
   "source": [
    "train_dataset = NewsDataset(train_df)\n",
    "val_dataset = NewsDataset(val_df)\n",
    "\n",
    "test_dataset = NewsDataset(test_df)"
   ]
  },
  {
   "cell_type": "markdown",
   "metadata": {},
   "source": [
    "The torch `DataLoader` seems to convert the 'text' entry in the `NewsDataset` from a list of strings into a list of tuples of strings. To avoid that, we'll define a custom collate function and batch format, which will just return the text (list of strings) and the label (`torch.Tensor`) as they are."
   ]
  },
  {
   "cell_type": "code",
   "execution_count": 80,
   "metadata": {},
   "outputs": [],
   "source": [
    "class CustomBatch:\n",
    "    def __init__(self, data):\n",
    "        # the DataLoader returns the NewsDataset item in a list, since it's technically a batch\n",
    "        # our batch size is 1, so we'll just take the only entry in the list and move on\n",
    "        data = data[0]\n",
    "        self.text = data['text']\n",
    "        self.label = data['label']\n",
    "\n",
    "def collate_wrapper(batch):\n",
    "    return CustomBatch(batch)"
   ]
  },
  {
   "cell_type": "code",
   "execution_count": 128,
   "metadata": {},
   "outputs": [],
   "source": [
    "train_loader = torch.utils.data.DataLoader(train_dataset, collate_fn = collate_wrapper)\n",
    "val_loader = torch.utils.data.DataLoader(val_dataset, collate_fn = collate_wrapper)\n",
    "\n",
    "test_loader = torch.utils.data.DataLoader(test_dataset, collate_fn = collate_wrapper)"
   ]
  },
  {
   "cell_type": "code",
   "execution_count": 132,
   "metadata": {},
   "outputs": [
    {
     "data": {
      "text/plain": [
       "(['la', 'county', 'cops', 'fire', 'at', 'pit', 'bull', 'kill', 'teenager'],\n",
       " tensor([0]))"
      ]
     },
     "execution_count": 132,
     "metadata": {},
     "output_type": "execute_result"
    }
   ],
   "source": [
    "example_batch = next(iter(train_loader))\n",
    "example_batch.text, example_batch.label"
   ]
  },
  {
   "cell_type": "markdown",
   "metadata": {},
   "source": [
    "Next, let's define our loss function and optimizer. Since the task is now a multi-class classification problem, we'll use the CrossEntropy loss function."
   ]
  },
  {
   "cell_type": "code",
   "execution_count": 257,
   "metadata": {},
   "outputs": [],
   "source": [
    "LEARNING_RATE = 0.01\n",
    "\n",
    "criterion = nn.CrossEntropyLoss()\n",
    "optimizer = optim.SGD(model.parameters(), lr = LEARNING_RATE)"
   ]
  },
  {
   "cell_type": "markdown",
   "metadata": {},
   "source": [
    "At this point, we've now assembled, cleaned, and processed the data, created a set of word embeddings, and initialized our model. We're ready to train!"
   ]
  },
  {
   "cell_type": "code",
   "execution_count": 258,
   "metadata": {},
   "outputs": [],
   "source": [
    "def evaluate(input_model, loader, print_ = False):\n",
    "    input_model.eval()\n",
    "    running_loss = 0\n",
    "    correct = 0\n",
    "    with torch.no_grad():\n",
    "        for item in loader:\n",
    "            text, label = item.text, item.label\n",
    "            output = input_model(text)\n",
    "\n",
    "            running_loss += criterion(output, label)\n",
    "            pred = output.argmax()\n",
    "\n",
    "            if label == pred:\n",
    "                correct += 1\n",
    "\n",
    "    avg_loss = running_loss / len(test_loader)\n",
    "    accuracy = (100. * correct) / len(test_loader)\n",
    "    if print_:\n",
    "        output_msg = 'Average loss: {:.4f}, Accuracy: {}/{} ({:.0f}%)'\n",
    "        print(output_msg.format(avg_loss, correct, len(test_loader), accuracy))\n",
    "    return avg_loss, accuracy"
   ]
  },
  {
   "cell_type": "code",
   "execution_count": 259,
   "metadata": {},
   "outputs": [
    {
     "name": "stdout",
     "output_type": "stream",
     "text": [
      "Epoch: 0 | Train Loss: 0.5783 | Val Loss: 0.4560 | Val Accuracy: 83.4%\n",
      "Epoch: 1 | Train Loss: 0.3996 | Val Loss: 0.4058 | Val Accuracy: 84.8%\n",
      "Epoch: 2 | Train Loss: 0.3619 | Val Loss: 0.3755 | Val Accuracy: 86.2%\n",
      "Epoch: 3 | Train Loss: 0.3348 | Val Loss: 0.3565 | Val Accuracy: 86.4%\n",
      "Epoch: 4 | Train Loss: 0.3193 | Val Loss: 0.3476 | Val Accuracy: 86.4%\n",
      "Epoch: 5 | Train Loss: 0.3109 | Val Loss: 0.3544 | Val Accuracy: 87.3%\n",
      "Epoch: 6 | Train Loss: 0.3051 | Val Loss: 0.3570 | Val Accuracy: 86.9%\n",
      "Epoch: 7 | Train Loss: 0.3004 | Val Loss: 0.3458 | Val Accuracy: 87.1%\n",
      "Epoch: 8 | Train Loss: 0.2998 | Val Loss: 0.3570 | Val Accuracy: 87.0%\n",
      "Epoch: 9 | Train Loss: 0.2956 | Val Loss: 0.3554 | Val Accuracy: 87.3%\n",
      "Epoch: 10 | Train Loss: 0.2927 | Val Loss: 0.3536 | Val Accuracy: 87.6%\n",
      "Epoch: 11 | Train Loss: 0.2900 | Val Loss: 0.3490 | Val Accuracy: 88.0%\n",
      "Epoch: 12 | Train Loss: 0.2865 | Val Loss: 0.3417 | Val Accuracy: 88.2%\n",
      "Epoch: 13 | Train Loss: 0.2860 | Val Loss: 0.3492 | Val Accuracy: 88.1%\n",
      "Epoch: 14 | Train Loss: 0.2843 | Val Loss: 0.3454 | Val Accuracy: 87.8%\n",
      "Epoch: 15 | Train Loss: 0.2829 | Val Loss: 0.3493 | Val Accuracy: 87.9%\n",
      "Epoch: 16 | Train Loss: 0.2794 | Val Loss: 0.3474 | Val Accuracy: 88.0%\n",
      "Epoch: 17 | Train Loss: 0.2776 | Val Loss: 0.3419 | Val Accuracy: 88.3%\n",
      "Epoch: 18 | Train Loss: 0.2765 | Val Loss: 0.3547 | Val Accuracy: 88.2%\n",
      "Epoch: 19 | Train Loss: 0.2748 | Val Loss: 0.3578 | Val Accuracy: 88.3%\n",
      "Epoch: 20 | Train Loss: 0.2724 | Val Loss: 0.3543 | Val Accuracy: 88.1%\n"
     ]
    },
    {
     "ename": "KeyboardInterrupt",
     "evalue": "",
     "output_type": "error",
     "traceback": [
      "\u001b[0;31m---------------------------------------------------------------------------\u001b[0m",
      "\u001b[0;31mKeyboardInterrupt\u001b[0m                         Traceback (most recent call last)",
      "\u001b[0;32m<ipython-input-259-c2b43d728bda>\u001b[0m in \u001b[0;36m<module>\u001b[0;34m\u001b[0m\n\u001b[1;32m     10\u001b[0m         \u001b[0mmodel\u001b[0m\u001b[0;34m.\u001b[0m\u001b[0mzero_grad\u001b[0m\u001b[0;34m(\u001b[0m\u001b[0;34m)\u001b[0m\u001b[0;34m\u001b[0m\u001b[0;34m\u001b[0m\u001b[0m\n\u001b[1;32m     11\u001b[0m         \u001b[0mtext\u001b[0m\u001b[0;34m,\u001b[0m \u001b[0mlabel\u001b[0m \u001b[0;34m=\u001b[0m \u001b[0mitem\u001b[0m\u001b[0;34m.\u001b[0m\u001b[0mtext\u001b[0m\u001b[0;34m,\u001b[0m \u001b[0mitem\u001b[0m\u001b[0;34m.\u001b[0m\u001b[0mlabel\u001b[0m\u001b[0;34m\u001b[0m\u001b[0;34m\u001b[0m\u001b[0m\n\u001b[0;32m---> 12\u001b[0;31m         \u001b[0moutput\u001b[0m \u001b[0;34m=\u001b[0m \u001b[0mmodel\u001b[0m\u001b[0;34m(\u001b[0m\u001b[0mtext\u001b[0m\u001b[0;34m)\u001b[0m\u001b[0;34m\u001b[0m\u001b[0;34m\u001b[0m\u001b[0m\n\u001b[0m\u001b[1;32m     13\u001b[0m         \u001b[0mloss\u001b[0m \u001b[0;34m=\u001b[0m \u001b[0mcriterion\u001b[0m\u001b[0;34m(\u001b[0m\u001b[0moutput\u001b[0m\u001b[0;34m,\u001b[0m \u001b[0mlabel\u001b[0m\u001b[0;34m)\u001b[0m\u001b[0;34m\u001b[0m\u001b[0;34m\u001b[0m\u001b[0m\n\u001b[1;32m     14\u001b[0m         \u001b[0mrunning_loss\u001b[0m \u001b[0;34m+=\u001b[0m \u001b[0mloss\u001b[0m\u001b[0;34m\u001b[0m\u001b[0;34m\u001b[0m\u001b[0m\n",
      "\u001b[0;32m/opt/conda/lib/python3.7/site-packages/torch/nn/modules/module.py\u001b[0m in \u001b[0;36m__call__\u001b[0;34m(self, *input, **kwargs)\u001b[0m\n\u001b[1;32m    530\u001b[0m             \u001b[0mresult\u001b[0m \u001b[0;34m=\u001b[0m \u001b[0mself\u001b[0m\u001b[0;34m.\u001b[0m\u001b[0m_slow_forward\u001b[0m\u001b[0;34m(\u001b[0m\u001b[0;34m*\u001b[0m\u001b[0minput\u001b[0m\u001b[0;34m,\u001b[0m \u001b[0;34m**\u001b[0m\u001b[0mkwargs\u001b[0m\u001b[0;34m)\u001b[0m\u001b[0;34m\u001b[0m\u001b[0;34m\u001b[0m\u001b[0m\n\u001b[1;32m    531\u001b[0m         \u001b[0;32melse\u001b[0m\u001b[0;34m:\u001b[0m\u001b[0;34m\u001b[0m\u001b[0;34m\u001b[0m\u001b[0m\n\u001b[0;32m--> 532\u001b[0;31m             \u001b[0mresult\u001b[0m \u001b[0;34m=\u001b[0m \u001b[0mself\u001b[0m\u001b[0;34m.\u001b[0m\u001b[0mforward\u001b[0m\u001b[0;34m(\u001b[0m\u001b[0;34m*\u001b[0m\u001b[0minput\u001b[0m\u001b[0;34m,\u001b[0m \u001b[0;34m**\u001b[0m\u001b[0mkwargs\u001b[0m\u001b[0;34m)\u001b[0m\u001b[0;34m\u001b[0m\u001b[0;34m\u001b[0m\u001b[0m\n\u001b[0m\u001b[1;32m    533\u001b[0m         \u001b[0;32mfor\u001b[0m \u001b[0mhook\u001b[0m \u001b[0;32min\u001b[0m \u001b[0mself\u001b[0m\u001b[0;34m.\u001b[0m\u001b[0m_forward_hooks\u001b[0m\u001b[0;34m.\u001b[0m\u001b[0mvalues\u001b[0m\u001b[0;34m(\u001b[0m\u001b[0;34m)\u001b[0m\u001b[0;34m:\u001b[0m\u001b[0;34m\u001b[0m\u001b[0;34m\u001b[0m\u001b[0m\n\u001b[1;32m    534\u001b[0m             \u001b[0mhook_result\u001b[0m \u001b[0;34m=\u001b[0m \u001b[0mhook\u001b[0m\u001b[0;34m(\u001b[0m\u001b[0mself\u001b[0m\u001b[0;34m,\u001b[0m \u001b[0minput\u001b[0m\u001b[0;34m,\u001b[0m \u001b[0mresult\u001b[0m\u001b[0;34m)\u001b[0m\u001b[0;34m\u001b[0m\u001b[0;34m\u001b[0m\u001b[0m\n",
      "\u001b[0;32m<ipython-input-229-120d4f9bcaa8>\u001b[0m in \u001b[0;36mforward\u001b[0;34m(self, news_text)\u001b[0m\n\u001b[1;32m     41\u001b[0m         \u001b[0mSince\u001b[0m \u001b[0mwe\u001b[0m \u001b[0monly\u001b[0m \u001b[0mneed\u001b[0m \u001b[0mthe\u001b[0m \u001b[0moutput\u001b[0m \u001b[0mof\u001b[0m \u001b[0mthe\u001b[0m \u001b[0mfinal\u001b[0m \u001b[0mlayer\u001b[0m\u001b[0;34m,\u001b[0m \u001b[0mwe\u001b[0m \u001b[0mcan\u001b[0m \u001b[0mignore\u001b[0m \u001b[0mit\u001b[0m\u001b[0;34m.\u001b[0m\u001b[0;34m\u001b[0m\u001b[0;34m\u001b[0m\u001b[0m\n\u001b[1;32m     42\u001b[0m         The second value, output, is the desired hidden state from the final timestep.'''\n\u001b[0;32m---> 43\u001b[0;31m         \u001b[0m_\u001b[0m\u001b[0;34m,\u001b[0m \u001b[0moutput\u001b[0m \u001b[0;34m=\u001b[0m \u001b[0mself\u001b[0m\u001b[0;34m.\u001b[0m\u001b[0mGRU\u001b[0m\u001b[0;34m(\u001b[0m\u001b[0membedded_text\u001b[0m\u001b[0;34m)\u001b[0m\u001b[0;34m\u001b[0m\u001b[0;34m\u001b[0m\u001b[0m\n\u001b[0m\u001b[1;32m     44\u001b[0m         \u001b[0;31m# the output has a shape of (num_layers, batch_size, hidden_size)\u001b[0m\u001b[0;34m\u001b[0m\u001b[0;34m\u001b[0m\u001b[0;34m\u001b[0m\u001b[0m\n\u001b[1;32m     45\u001b[0m         \u001b[0;31m# the outputs from previous layers aren't important,\u001b[0m\u001b[0;34m\u001b[0m\u001b[0;34m\u001b[0m\u001b[0;34m\u001b[0m\u001b[0m\n",
      "\u001b[0;32m/opt/conda/lib/python3.7/site-packages/torch/nn/modules/module.py\u001b[0m in \u001b[0;36m__call__\u001b[0;34m(self, *input, **kwargs)\u001b[0m\n\u001b[1;32m    530\u001b[0m             \u001b[0mresult\u001b[0m \u001b[0;34m=\u001b[0m \u001b[0mself\u001b[0m\u001b[0;34m.\u001b[0m\u001b[0m_slow_forward\u001b[0m\u001b[0;34m(\u001b[0m\u001b[0;34m*\u001b[0m\u001b[0minput\u001b[0m\u001b[0;34m,\u001b[0m \u001b[0;34m**\u001b[0m\u001b[0mkwargs\u001b[0m\u001b[0;34m)\u001b[0m\u001b[0;34m\u001b[0m\u001b[0;34m\u001b[0m\u001b[0m\n\u001b[1;32m    531\u001b[0m         \u001b[0;32melse\u001b[0m\u001b[0;34m:\u001b[0m\u001b[0;34m\u001b[0m\u001b[0;34m\u001b[0m\u001b[0m\n\u001b[0;32m--> 532\u001b[0;31m             \u001b[0mresult\u001b[0m \u001b[0;34m=\u001b[0m \u001b[0mself\u001b[0m\u001b[0;34m.\u001b[0m\u001b[0mforward\u001b[0m\u001b[0;34m(\u001b[0m\u001b[0;34m*\u001b[0m\u001b[0minput\u001b[0m\u001b[0;34m,\u001b[0m \u001b[0;34m**\u001b[0m\u001b[0mkwargs\u001b[0m\u001b[0;34m)\u001b[0m\u001b[0;34m\u001b[0m\u001b[0;34m\u001b[0m\u001b[0m\n\u001b[0m\u001b[1;32m    533\u001b[0m         \u001b[0;32mfor\u001b[0m \u001b[0mhook\u001b[0m \u001b[0;32min\u001b[0m \u001b[0mself\u001b[0m\u001b[0;34m.\u001b[0m\u001b[0m_forward_hooks\u001b[0m\u001b[0;34m.\u001b[0m\u001b[0mvalues\u001b[0m\u001b[0;34m(\u001b[0m\u001b[0;34m)\u001b[0m\u001b[0;34m:\u001b[0m\u001b[0;34m\u001b[0m\u001b[0;34m\u001b[0m\u001b[0m\n\u001b[1;32m    534\u001b[0m             \u001b[0mhook_result\u001b[0m \u001b[0;34m=\u001b[0m \u001b[0mhook\u001b[0m\u001b[0;34m(\u001b[0m\u001b[0mself\u001b[0m\u001b[0;34m,\u001b[0m \u001b[0minput\u001b[0m\u001b[0;34m,\u001b[0m \u001b[0mresult\u001b[0m\u001b[0;34m)\u001b[0m\u001b[0;34m\u001b[0m\u001b[0;34m\u001b[0m\u001b[0m\n",
      "\u001b[0;32m/opt/conda/lib/python3.7/site-packages/torch/nn/modules/rnn.py\u001b[0m in \u001b[0;36mforward\u001b[0;34m(self, input, hx)\u001b[0m\n\u001b[1;32m    714\u001b[0m         \u001b[0;32mif\u001b[0m \u001b[0mbatch_sizes\u001b[0m \u001b[0;32mis\u001b[0m \u001b[0;32mNone\u001b[0m\u001b[0;34m:\u001b[0m\u001b[0;34m\u001b[0m\u001b[0;34m\u001b[0m\u001b[0m\n\u001b[1;32m    715\u001b[0m             result = _VF.gru(input, hx, self._flat_weights, self.bias, self.num_layers,\n\u001b[0;32m--> 716\u001b[0;31m                              self.dropout, self.training, self.bidirectional, self.batch_first)\n\u001b[0m\u001b[1;32m    717\u001b[0m         \u001b[0;32melse\u001b[0m\u001b[0;34m:\u001b[0m\u001b[0;34m\u001b[0m\u001b[0;34m\u001b[0m\u001b[0m\n\u001b[1;32m    718\u001b[0m             result = _VF.gru(input, batch_sizes, hx, self._flat_weights, self.bias,\n",
      "\u001b[0;31mKeyboardInterrupt\u001b[0m: "
     ]
    }
   ],
   "source": [
    "EPOCHS = 100\n",
    "\n",
    "train_losses = []\n",
    "val_losses = []\n",
    "\n",
    "for epoch in range(EPOCHS):\n",
    "    model.train()\n",
    "    running_loss = 0\n",
    "    for item in train_loader:\n",
    "        model.zero_grad()\n",
    "        text, label = item.text, item.label\n",
    "        output = model(text)\n",
    "        loss = criterion(output, label)\n",
    "        running_loss += loss\n",
    "        \n",
    "        loss.backward()\n",
    "        optimizer.step()\n",
    "    \n",
    "    val_loss, val_accuracy = evaluate(model, val_loader)\n",
    "    val_losses.append(val_loss)\n",
    "    \n",
    "    avg_loss = running_loss / len(train_loader)\n",
    "    train_losses.append(avg_loss)\n",
    "    \n",
    "    output_msg = 'Epoch: {} | Train Loss: {:.4f} | Val Loss: {:.4f} | Val Accuracy: {:.1f}%'\n",
    "    print(output_msg.format(epoch, avg_loss, val_loss, val_accuracy))"
   ]
  },
  {
   "cell_type": "code",
   "execution_count": 243,
   "metadata": {},
   "outputs": [],
   "source": [
    "train_losses_plot = [tensor.cpu().detach().numpy() for tensor in train_losses]\n",
    "val_losses_plot = [tensor.cpu().detach().numpy() for tensor in val_losses]"
   ]
  },
  {
   "cell_type": "code",
   "execution_count": 244,
   "metadata": {},
   "outputs": [
    {
     "data": {
      "image/png": "[encoded data removed]",
      "text/plain": [
       "<Figure size 864x432 with 1 Axes>"
      ]
     },
     "metadata": {
      "needs_background": "light"
     },
     "output_type": "display_data"
    }
   ],
   "source": [
    "plt.figure(figsize=(12,6))\n",
    "plt.scatter(range(100), train_losses_plot, c = 'blue')\n",
    "plt.scatter(range(100), val_losses_plot, c = 'red')\n",
    "plt.xlabel('Epoch')\n",
    "plt.ylabel('Average Loss')\n",
    "# plt.xticks(np.arange(100), np.arange(100))\n",
    "plt.title('Training Loss')\n",
    "plt.show()"
   ]
  },
  {
   "cell_type": "code",
   "execution_count": 202,
   "metadata": {},
   "outputs": [],
   "source": [
    "example_sentence = ['covid', 'vaccine', 'found', 'public', 'rejoice']"
   ]
  },
  {
   "cell_type": "code",
   "execution_count": 203,
   "metadata": {},
   "outputs": [
    {
     "data": {
      "text/plain": [
       "tensor([[0.3815, 0.0522, 0.5662]], grad_fn=<SoftmaxBackward>)"
      ]
     },
     "execution_count": 203,
     "metadata": {},
     "output_type": "execute_result"
    }
   ],
   "source": [
    "nn.Softmax(dim = 1)(model(example_sentence))"
   ]
  },
  {
   "cell_type": "code",
   "execution_count": 68,
   "metadata": {},
   "outputs": [
    {
     "data": {
      "text/plain": [
       "tensor(0)"
      ]
     },
     "execution_count": 68,
     "metadata": {},
     "output_type": "execute_result"
    }
   ],
   "source": [
    "torch.tensor([[0.2811, 0.1574, 0.0317]]).argmax()"
   ]
  },
  {
   "cell_type": "code",
   "execution_count": null,
   "metadata": {},
   "outputs": [],
   "source": []
  }
 ],
 "metadata": {
  "kernelspec": {
   "display_name": "Python 3",
   "language": "python",
   "name": "python3"
  }
 },
 "nbformat": 4,
 "nbformat_minor": 4
}
